{
  "nbformat": 4,
  "nbformat_minor": 0,
  "metadata": {
    "colab": {
      "name": "\"Moringa_Data_Science_Core_W4_Independent_Project_2022_05_Christopher_Kimani_Python Notebook.\"",
      "provenance": [],
      "authorship_tag": "ABX9TyM4XMHmZ2XW4gsNu6X4n7uG",
      "include_colab_link": true
    },
    "kernelspec": {
      "name": "python3",
      "display_name": "Python 3"
    },
    "language_info": {
      "name": "python"
    }
  },
  "cells": [
    {
      "cell_type": "markdown",
      "metadata": {
        "id": "view-in-github",
        "colab_type": "text"
      },
      "source": [
        "<a href=\"https://colab.research.google.com/github/001ckk/Hypothesis-Testing-/blob/main/%22Moringa_Data_Science_Core_W4_Independent_Project_2022_05_Christopher_Kimani_Python_Notebook_%22.ipynb\" target=\"_parent\"><img src=\"https://colab.research.google.com/assets/colab-badge.svg\" alt=\"Open In Colab\"/></a>"
      ]
    },
    {
      "cell_type": "markdown",
      "source": [
        "**HYPOTHESIS TESTING**"
      ],
      "metadata": {
        "id": "cPWEqkZKBIjF"
      }
    },
    {
      "cell_type": "markdown",
      "source": [
        "##a) Data Analytic Question\n",
        "We aim at Investigating a claim regarding the blue cars from the Autolib dataset.\n",
        "\n",
        "**Null**: Sample mean from postal code 75001 is equal to sample mean from postal code 75002\n",
        "\n",
        "**Alternative**: Sample mean from postal code 75001 is not equal to sample mean from postal code 75002\n"
      ],
      "metadata": {
        "id": "xC0mI2mhBWNd"
      }
    },
    {
      "cell_type": "markdown",
      "source": [
        "##b) Defining the Metric for Success \n",
        "\n",
        "In order to work on the above problem, the following will need to be done:\n",
        "\n",
        "a) Find and deal with outliers, anomalies, and missing data within the dataset.\n",
        "\n",
        "b) Plot appropriate univariate and bivariate summaries recording our observations.\n",
        "\n",
        "c) Implement the solution by performing hypothesis testing. "
      ],
      "metadata": {
        "id": "6aO0Q4BHBeCT"
      }
    },
    {
      "cell_type": "markdown",
      "source": [
        "##c) Understanding the context\n",
        "Having been tasked to understand electric car usage by solving for another research question. We will work as a Data Scientist for the Autolib electric car-sharing service company to investigate a claim about the blue cars from the provided Autolib dataset. In an effort to do this, we need to identify some areas and periods of interest via sampling stating the reason to the choice of method, then perform hypothesis testing with regards to the claim that we will have made.\n"
      ],
      "metadata": {
        "id": "LJ35cm0CBoGv"
      }
    },
    {
      "cell_type": "markdown",
      "source": [
        "##e) Relevance of the data\n",
        "\n",
        "The provided dataset is a daily aggregation, by date and postal code, of the number of events on the Autolib network (car-sharing and recharging).The data provided aligns with the context of our study.\n",
        "The dataset and glossary to use for this project can be found here [http://bit.ly/DSCoreAutolibDataset and here [http://bit.ly/DSCoreAutolibDatasetGlossary] respectively."
      ],
      "metadata": {
        "id": "cNsxABHEB7kK"
      }
    },
    {
      "cell_type": "markdown",
      "source": [
        "**Loading libraries**"
      ],
      "metadata": {
        "id": "tE_U2TlyIE-C"
      }
    },
    {
      "cell_type": "code",
      "source": [
        "import pandas as pd\n",
        "import numpy as np\n",
        "import matplotlib.pyplot as plt\n",
        "import seaborn as sns\n",
        "from scipy.stats import shapiro \n",
        "from scipy import stats\n",
        "import scipy.stats\n",
        "from scipy.stats import ttest_ind\n",
        "from scipy import stats as st"
      ],
      "metadata": {
        "id": "vkpQxG2sIDb8"
      },
      "execution_count": null,
      "outputs": []
    },
    {
      "cell_type": "markdown",
      "source": [
        "**Uploading the Data**"
      ],
      "metadata": {
        "id": "OoG8T0vX4956"
      }
    },
    {
      "cell_type": "code",
      "source": [
        "# loading the description information\n",
        "\n",
        "description = pd.read_excel(\"columns_explanation.xlsx\")\n",
        "description "
      ],
      "metadata": {
        "colab": {
          "base_uri": "https://localhost:8080/",
          "height": 457
        },
        "id": "IhSjSHCJHlT1",
        "outputId": "afe8d0b8-c784-4068-a56b-27cdb139e8b3"
      },
      "execution_count": 2,
      "outputs": [
        {
          "output_type": "execute_result",
          "data": {
            "text/plain": [
              "               Column name                                        explanation\n",
              "0              Postal code                 postal code of the area (in Paris)\n",
              "1                     date                        date of the row aggregation\n",
              "2      n_daily_data_points  number of daily data poinst that were availabl...\n",
              "3                dayOfWeek     identifier of weekday (0: Monday -> 6: Sunday)\n",
              "4                 day_type                                 weekday or weekend\n",
              "5       BlueCars_taken_sum    Number of bluecars taken that date in that area\n",
              "6    BlueCars_returned_sum  Number of bluecars returned that date in that ...\n",
              "7         Utilib_taken_sum      Number of Utilib taken that date in that area\n",
              "8      Utilib_returned_sum   Number of Utilib returned that date in that area\n",
              "9      Utilib_14_taken_sum  Number of Utilib 1.4 taken that date in that area\n",
              "10  Utilib_14_returned_sum  Number of Utilib 1.4 returned that date in tha...\n",
              "11         Slots_freed_sum  Number of recharging slots released that date ...\n",
              "12         Slots_taken_sum  Number of rechargign slots taken that date in ..."
            ],
            "text/html": [
              "\n",
              "  <div id=\"df-f65d33a5-6ea7-4129-bd04-735d8a107992\">\n",
              "    <div class=\"colab-df-container\">\n",
              "      <div>\n",
              "<style scoped>\n",
              "    .dataframe tbody tr th:only-of-type {\n",
              "        vertical-align: middle;\n",
              "    }\n",
              "\n",
              "    .dataframe tbody tr th {\n",
              "        vertical-align: top;\n",
              "    }\n",
              "\n",
              "    .dataframe thead th {\n",
              "        text-align: right;\n",
              "    }\n",
              "</style>\n",
              "<table border=\"1\" class=\"dataframe\">\n",
              "  <thead>\n",
              "    <tr style=\"text-align: right;\">\n",
              "      <th></th>\n",
              "      <th>Column name</th>\n",
              "      <th>explanation</th>\n",
              "    </tr>\n",
              "  </thead>\n",
              "  <tbody>\n",
              "    <tr>\n",
              "      <th>0</th>\n",
              "      <td>Postal code</td>\n",
              "      <td>postal code of the area (in Paris)</td>\n",
              "    </tr>\n",
              "    <tr>\n",
              "      <th>1</th>\n",
              "      <td>date</td>\n",
              "      <td>date of the row aggregation</td>\n",
              "    </tr>\n",
              "    <tr>\n",
              "      <th>2</th>\n",
              "      <td>n_daily_data_points</td>\n",
              "      <td>number of daily data poinst that were availabl...</td>\n",
              "    </tr>\n",
              "    <tr>\n",
              "      <th>3</th>\n",
              "      <td>dayOfWeek</td>\n",
              "      <td>identifier of weekday (0: Monday -&gt; 6: Sunday)</td>\n",
              "    </tr>\n",
              "    <tr>\n",
              "      <th>4</th>\n",
              "      <td>day_type</td>\n",
              "      <td>weekday or weekend</td>\n",
              "    </tr>\n",
              "    <tr>\n",
              "      <th>5</th>\n",
              "      <td>BlueCars_taken_sum</td>\n",
              "      <td>Number of bluecars taken that date in that area</td>\n",
              "    </tr>\n",
              "    <tr>\n",
              "      <th>6</th>\n",
              "      <td>BlueCars_returned_sum</td>\n",
              "      <td>Number of bluecars returned that date in that ...</td>\n",
              "    </tr>\n",
              "    <tr>\n",
              "      <th>7</th>\n",
              "      <td>Utilib_taken_sum</td>\n",
              "      <td>Number of Utilib taken that date in that area</td>\n",
              "    </tr>\n",
              "    <tr>\n",
              "      <th>8</th>\n",
              "      <td>Utilib_returned_sum</td>\n",
              "      <td>Number of Utilib returned that date in that area</td>\n",
              "    </tr>\n",
              "    <tr>\n",
              "      <th>9</th>\n",
              "      <td>Utilib_14_taken_sum</td>\n",
              "      <td>Number of Utilib 1.4 taken that date in that area</td>\n",
              "    </tr>\n",
              "    <tr>\n",
              "      <th>10</th>\n",
              "      <td>Utilib_14_returned_sum</td>\n",
              "      <td>Number of Utilib 1.4 returned that date in tha...</td>\n",
              "    </tr>\n",
              "    <tr>\n",
              "      <th>11</th>\n",
              "      <td>Slots_freed_sum</td>\n",
              "      <td>Number of recharging slots released that date ...</td>\n",
              "    </tr>\n",
              "    <tr>\n",
              "      <th>12</th>\n",
              "      <td>Slots_taken_sum</td>\n",
              "      <td>Number of rechargign slots taken that date in ...</td>\n",
              "    </tr>\n",
              "  </tbody>\n",
              "</table>\n",
              "</div>\n",
              "      <button class=\"colab-df-convert\" onclick=\"convertToInteractive('df-f65d33a5-6ea7-4129-bd04-735d8a107992')\"\n",
              "              title=\"Convert this dataframe to an interactive table.\"\n",
              "              style=\"display:none;\">\n",
              "        \n",
              "  <svg xmlns=\"http://www.w3.org/2000/svg\" height=\"24px\"viewBox=\"0 0 24 24\"\n",
              "       width=\"24px\">\n",
              "    <path d=\"M0 0h24v24H0V0z\" fill=\"none\"/>\n",
              "    <path d=\"M18.56 5.44l.94 2.06.94-2.06 2.06-.94-2.06-.94-.94-2.06-.94 2.06-2.06.94zm-11 1L8.5 8.5l.94-2.06 2.06-.94-2.06-.94L8.5 2.5l-.94 2.06-2.06.94zm10 10l.94 2.06.94-2.06 2.06-.94-2.06-.94-.94-2.06-.94 2.06-2.06.94z\"/><path d=\"M17.41 7.96l-1.37-1.37c-.4-.4-.92-.59-1.43-.59-.52 0-1.04.2-1.43.59L10.3 9.45l-7.72 7.72c-.78.78-.78 2.05 0 2.83L4 21.41c.39.39.9.59 1.41.59.51 0 1.02-.2 1.41-.59l7.78-7.78 2.81-2.81c.8-.78.8-2.07 0-2.86zM5.41 20L4 18.59l7.72-7.72 1.47 1.35L5.41 20z\"/>\n",
              "  </svg>\n",
              "      </button>\n",
              "      \n",
              "  <style>\n",
              "    .colab-df-container {\n",
              "      display:flex;\n",
              "      flex-wrap:wrap;\n",
              "      gap: 12px;\n",
              "    }\n",
              "\n",
              "    .colab-df-convert {\n",
              "      background-color: #E8F0FE;\n",
              "      border: none;\n",
              "      border-radius: 50%;\n",
              "      cursor: pointer;\n",
              "      display: none;\n",
              "      fill: #1967D2;\n",
              "      height: 32px;\n",
              "      padding: 0 0 0 0;\n",
              "      width: 32px;\n",
              "    }\n",
              "\n",
              "    .colab-df-convert:hover {\n",
              "      background-color: #E2EBFA;\n",
              "      box-shadow: 0px 1px 2px rgba(60, 64, 67, 0.3), 0px 1px 3px 1px rgba(60, 64, 67, 0.15);\n",
              "      fill: #174EA6;\n",
              "    }\n",
              "\n",
              "    [theme=dark] .colab-df-convert {\n",
              "      background-color: #3B4455;\n",
              "      fill: #D2E3FC;\n",
              "    }\n",
              "\n",
              "    [theme=dark] .colab-df-convert:hover {\n",
              "      background-color: #434B5C;\n",
              "      box-shadow: 0px 1px 3px 1px rgba(0, 0, 0, 0.15);\n",
              "      filter: drop-shadow(0px 1px 2px rgba(0, 0, 0, 0.3));\n",
              "      fill: #FFFFFF;\n",
              "    }\n",
              "  </style>\n",
              "\n",
              "      <script>\n",
              "        const buttonEl =\n",
              "          document.querySelector('#df-f65d33a5-6ea7-4129-bd04-735d8a107992 button.colab-df-convert');\n",
              "        buttonEl.style.display =\n",
              "          google.colab.kernel.accessAllowed ? 'block' : 'none';\n",
              "\n",
              "        async function convertToInteractive(key) {\n",
              "          const element = document.querySelector('#df-f65d33a5-6ea7-4129-bd04-735d8a107992');\n",
              "          const dataTable =\n",
              "            await google.colab.kernel.invokeFunction('convertToInteractive',\n",
              "                                                     [key], {});\n",
              "          if (!dataTable) return;\n",
              "\n",
              "          const docLinkHtml = 'Like what you see? Visit the ' +\n",
              "            '<a target=\"_blank\" href=https://colab.research.google.com/notebooks/data_table.ipynb>data table notebook</a>'\n",
              "            + ' to learn more about interactive tables.';\n",
              "          element.innerHTML = '';\n",
              "          dataTable['output_type'] = 'display_data';\n",
              "          await google.colab.output.renderOutput(dataTable, element);\n",
              "          const docLink = document.createElement('div');\n",
              "          docLink.innerHTML = docLinkHtml;\n",
              "          element.appendChild(docLink);\n",
              "        }\n",
              "      </script>\n",
              "    </div>\n",
              "  </div>\n",
              "  "
            ]
          },
          "metadata": {},
          "execution_count": 2
        }
      ]
    },
    {
      "cell_type": "code",
      "source": [
        "# Loading the autolib data \n",
        "\n",
        "data = pd.read_csv(\"autolib_daily_events_postal_code.csv\")\n",
        "data.head(5)"
      ],
      "metadata": {
        "colab": {
          "base_uri": "https://localhost:8080/",
          "height": 288
        },
        "id": "A-heeZ_dE84M",
        "outputId": "6ced6d50-15d3-4f90-9473-d9e216a9ebf7"
      },
      "execution_count": 3,
      "outputs": [
        {
          "output_type": "execute_result",
          "data": {
            "text/plain": [
              "   Postal code      date  n_daily_data_points  dayOfWeek day_type  \\\n",
              "0        75001  1/1/2018                 1440          0  weekday   \n",
              "1        75001  1/2/2018                 1438          1  weekday   \n",
              "2        75001  1/3/2018                 1439          2  weekday   \n",
              "3        75001  1/4/2018                 1320          3  weekday   \n",
              "4        75001  1/5/2018                 1440          4  weekday   \n",
              "\n",
              "   BlueCars_taken_sum  BlueCars_returned_sum  Utilib_taken_sum  \\\n",
              "0                 110                    103                 3   \n",
              "1                  98                     94                 1   \n",
              "2                 138                    139                 0   \n",
              "3                 104                    104                 2   \n",
              "4                 114                    117                 3   \n",
              "\n",
              "   Utilib_returned_sum  Utilib_14_taken_sum  Utilib_14_returned_sum  \\\n",
              "0                    2                   10                       9   \n",
              "1                    1                    8                       8   \n",
              "2                    0                    2                       2   \n",
              "3                    2                    9                       8   \n",
              "4                    3                    6                       6   \n",
              "\n",
              "   Slots_freed_sum  Slots_taken_sum  \n",
              "0               22               20  \n",
              "1               23               22  \n",
              "2               27               27  \n",
              "3               25               21  \n",
              "4               18               20  "
            ],
            "text/html": [
              "\n",
              "  <div id=\"df-36459496-dccb-4226-b080-8c306282918a\">\n",
              "    <div class=\"colab-df-container\">\n",
              "      <div>\n",
              "<style scoped>\n",
              "    .dataframe tbody tr th:only-of-type {\n",
              "        vertical-align: middle;\n",
              "    }\n",
              "\n",
              "    .dataframe tbody tr th {\n",
              "        vertical-align: top;\n",
              "    }\n",
              "\n",
              "    .dataframe thead th {\n",
              "        text-align: right;\n",
              "    }\n",
              "</style>\n",
              "<table border=\"1\" class=\"dataframe\">\n",
              "  <thead>\n",
              "    <tr style=\"text-align: right;\">\n",
              "      <th></th>\n",
              "      <th>Postal code</th>\n",
              "      <th>date</th>\n",
              "      <th>n_daily_data_points</th>\n",
              "      <th>dayOfWeek</th>\n",
              "      <th>day_type</th>\n",
              "      <th>BlueCars_taken_sum</th>\n",
              "      <th>BlueCars_returned_sum</th>\n",
              "      <th>Utilib_taken_sum</th>\n",
              "      <th>Utilib_returned_sum</th>\n",
              "      <th>Utilib_14_taken_sum</th>\n",
              "      <th>Utilib_14_returned_sum</th>\n",
              "      <th>Slots_freed_sum</th>\n",
              "      <th>Slots_taken_sum</th>\n",
              "    </tr>\n",
              "  </thead>\n",
              "  <tbody>\n",
              "    <tr>\n",
              "      <th>0</th>\n",
              "      <td>75001</td>\n",
              "      <td>1/1/2018</td>\n",
              "      <td>1440</td>\n",
              "      <td>0</td>\n",
              "      <td>weekday</td>\n",
              "      <td>110</td>\n",
              "      <td>103</td>\n",
              "      <td>3</td>\n",
              "      <td>2</td>\n",
              "      <td>10</td>\n",
              "      <td>9</td>\n",
              "      <td>22</td>\n",
              "      <td>20</td>\n",
              "    </tr>\n",
              "    <tr>\n",
              "      <th>1</th>\n",
              "      <td>75001</td>\n",
              "      <td>1/2/2018</td>\n",
              "      <td>1438</td>\n",
              "      <td>1</td>\n",
              "      <td>weekday</td>\n",
              "      <td>98</td>\n",
              "      <td>94</td>\n",
              "      <td>1</td>\n",
              "      <td>1</td>\n",
              "      <td>8</td>\n",
              "      <td>8</td>\n",
              "      <td>23</td>\n",
              "      <td>22</td>\n",
              "    </tr>\n",
              "    <tr>\n",
              "      <th>2</th>\n",
              "      <td>75001</td>\n",
              "      <td>1/3/2018</td>\n",
              "      <td>1439</td>\n",
              "      <td>2</td>\n",
              "      <td>weekday</td>\n",
              "      <td>138</td>\n",
              "      <td>139</td>\n",
              "      <td>0</td>\n",
              "      <td>0</td>\n",
              "      <td>2</td>\n",
              "      <td>2</td>\n",
              "      <td>27</td>\n",
              "      <td>27</td>\n",
              "    </tr>\n",
              "    <tr>\n",
              "      <th>3</th>\n",
              "      <td>75001</td>\n",
              "      <td>1/4/2018</td>\n",
              "      <td>1320</td>\n",
              "      <td>3</td>\n",
              "      <td>weekday</td>\n",
              "      <td>104</td>\n",
              "      <td>104</td>\n",
              "      <td>2</td>\n",
              "      <td>2</td>\n",
              "      <td>9</td>\n",
              "      <td>8</td>\n",
              "      <td>25</td>\n",
              "      <td>21</td>\n",
              "    </tr>\n",
              "    <tr>\n",
              "      <th>4</th>\n",
              "      <td>75001</td>\n",
              "      <td>1/5/2018</td>\n",
              "      <td>1440</td>\n",
              "      <td>4</td>\n",
              "      <td>weekday</td>\n",
              "      <td>114</td>\n",
              "      <td>117</td>\n",
              "      <td>3</td>\n",
              "      <td>3</td>\n",
              "      <td>6</td>\n",
              "      <td>6</td>\n",
              "      <td>18</td>\n",
              "      <td>20</td>\n",
              "    </tr>\n",
              "  </tbody>\n",
              "</table>\n",
              "</div>\n",
              "      <button class=\"colab-df-convert\" onclick=\"convertToInteractive('df-36459496-dccb-4226-b080-8c306282918a')\"\n",
              "              title=\"Convert this dataframe to an interactive table.\"\n",
              "              style=\"display:none;\">\n",
              "        \n",
              "  <svg xmlns=\"http://www.w3.org/2000/svg\" height=\"24px\"viewBox=\"0 0 24 24\"\n",
              "       width=\"24px\">\n",
              "    <path d=\"M0 0h24v24H0V0z\" fill=\"none\"/>\n",
              "    <path d=\"M18.56 5.44l.94 2.06.94-2.06 2.06-.94-2.06-.94-.94-2.06-.94 2.06-2.06.94zm-11 1L8.5 8.5l.94-2.06 2.06-.94-2.06-.94L8.5 2.5l-.94 2.06-2.06.94zm10 10l.94 2.06.94-2.06 2.06-.94-2.06-.94-.94-2.06-.94 2.06-2.06.94z\"/><path d=\"M17.41 7.96l-1.37-1.37c-.4-.4-.92-.59-1.43-.59-.52 0-1.04.2-1.43.59L10.3 9.45l-7.72 7.72c-.78.78-.78 2.05 0 2.83L4 21.41c.39.39.9.59 1.41.59.51 0 1.02-.2 1.41-.59l7.78-7.78 2.81-2.81c.8-.78.8-2.07 0-2.86zM5.41 20L4 18.59l7.72-7.72 1.47 1.35L5.41 20z\"/>\n",
              "  </svg>\n",
              "      </button>\n",
              "      \n",
              "  <style>\n",
              "    .colab-df-container {\n",
              "      display:flex;\n",
              "      flex-wrap:wrap;\n",
              "      gap: 12px;\n",
              "    }\n",
              "\n",
              "    .colab-df-convert {\n",
              "      background-color: #E8F0FE;\n",
              "      border: none;\n",
              "      border-radius: 50%;\n",
              "      cursor: pointer;\n",
              "      display: none;\n",
              "      fill: #1967D2;\n",
              "      height: 32px;\n",
              "      padding: 0 0 0 0;\n",
              "      width: 32px;\n",
              "    }\n",
              "\n",
              "    .colab-df-convert:hover {\n",
              "      background-color: #E2EBFA;\n",
              "      box-shadow: 0px 1px 2px rgba(60, 64, 67, 0.3), 0px 1px 3px 1px rgba(60, 64, 67, 0.15);\n",
              "      fill: #174EA6;\n",
              "    }\n",
              "\n",
              "    [theme=dark] .colab-df-convert {\n",
              "      background-color: #3B4455;\n",
              "      fill: #D2E3FC;\n",
              "    }\n",
              "\n",
              "    [theme=dark] .colab-df-convert:hover {\n",
              "      background-color: #434B5C;\n",
              "      box-shadow: 0px 1px 3px 1px rgba(0, 0, 0, 0.15);\n",
              "      filter: drop-shadow(0px 1px 2px rgba(0, 0, 0, 0.3));\n",
              "      fill: #FFFFFF;\n",
              "    }\n",
              "  </style>\n",
              "\n",
              "      <script>\n",
              "        const buttonEl =\n",
              "          document.querySelector('#df-36459496-dccb-4226-b080-8c306282918a button.colab-df-convert');\n",
              "        buttonEl.style.display =\n",
              "          google.colab.kernel.accessAllowed ? 'block' : 'none';\n",
              "\n",
              "        async function convertToInteractive(key) {\n",
              "          const element = document.querySelector('#df-36459496-dccb-4226-b080-8c306282918a');\n",
              "          const dataTable =\n",
              "            await google.colab.kernel.invokeFunction('convertToInteractive',\n",
              "                                                     [key], {});\n",
              "          if (!dataTable) return;\n",
              "\n",
              "          const docLinkHtml = 'Like what you see? Visit the ' +\n",
              "            '<a target=\"_blank\" href=https://colab.research.google.com/notebooks/data_table.ipynb>data table notebook</a>'\n",
              "            + ' to learn more about interactive tables.';\n",
              "          element.innerHTML = '';\n",
              "          dataTable['output_type'] = 'display_data';\n",
              "          await google.colab.output.renderOutput(dataTable, element);\n",
              "          const docLink = document.createElement('div');\n",
              "          docLink.innerHTML = docLinkHtml;\n",
              "          element.appendChild(docLink);\n",
              "        }\n",
              "      </script>\n",
              "    </div>\n",
              "  </div>\n",
              "  "
            ]
          },
          "metadata": {},
          "execution_count": 3
        }
      ]
    },
    {
      "cell_type": "markdown",
      "source": [
        "**Data Cleaning**"
      ],
      "metadata": {
        "id": "ZgX5GCFhbVbd"
      }
    },
    {
      "cell_type": "code",
      "source": [
        "# Checking missing data \n",
        "data.isnull().sum()\n",
        "\n",
        "# There are no null values in the data."
      ],
      "metadata": {
        "colab": {
          "base_uri": "https://localhost:8080/"
        },
        "id": "Z4t8A849Rcti",
        "outputId": "abec12c5-9c92-48d6-daa1-b1e5c5d0bfe6"
      },
      "execution_count": 4,
      "outputs": [
        {
          "output_type": "execute_result",
          "data": {
            "text/plain": [
              "Postal code               0\n",
              "date                      0\n",
              "n_daily_data_points       0\n",
              "dayOfWeek                 0\n",
              "day_type                  0\n",
              "BlueCars_taken_sum        0\n",
              "BlueCars_returned_sum     0\n",
              "Utilib_taken_sum          0\n",
              "Utilib_returned_sum       0\n",
              "Utilib_14_taken_sum       0\n",
              "Utilib_14_returned_sum    0\n",
              "Slots_freed_sum           0\n",
              "Slots_taken_sum           0\n",
              "dtype: int64"
            ]
          },
          "metadata": {},
          "execution_count": 4
        }
      ]
    },
    {
      "cell_type": "code",
      "source": [
        "# Checking outliers\n",
        "Q1 = data.quantile(0.25)\n",
        "Q3 = data.quantile(0.75)\n",
        "IQR = Q3 - Q1\n",
        "outliers = data[((data < (Q1 - 1.5*IQR))|(data > (Q3 + 1.5*IQR)))]\n",
        "outliers.count()\n",
        "\n",
        "# since there are too many outliers. It is best to work with them to avoid distorting the analysis."
      ],
      "metadata": {
        "colab": {
          "base_uri": "https://localhost:8080/"
        },
        "id": "d3KkBWPsgKtA",
        "outputId": "2f8e1671-0f01-4b1b-fdba-7e1655a35634"
      },
      "execution_count": 5,
      "outputs": [
        {
          "output_type": "stream",
          "name": "stderr",
          "text": [
            "/usr/local/lib/python3.7/dist-packages/ipykernel_launcher.py:5: FutureWarning: Automatic reindexing on DataFrame vs Series comparisons is deprecated and will raise ValueError in a future version.  Do `left, right = left.align(right, axis=1, copy=False)` before e.g. `left == right`\n",
            "  \"\"\"\n"
          ]
        },
        {
          "output_type": "execute_result",
          "data": {
            "text/plain": [
              "Postal code               3899\n",
              "date                         0\n",
              "n_daily_data_points       2670\n",
              "dayOfWeek                    0\n",
              "day_type                     0\n",
              "BlueCars_taken_sum        2215\n",
              "BlueCars_returned_sum     2213\n",
              "Utilib_taken_sum          1783\n",
              "Utilib_returned_sum       1770\n",
              "Utilib_14_taken_sum       1815\n",
              "Utilib_14_returned_sum    1820\n",
              "Slots_freed_sum           3235\n",
              "Slots_taken_sum           3234\n",
              "dtype: int64"
            ]
          },
          "metadata": {},
          "execution_count": 5
        }
      ]
    },
    {
      "cell_type": "code",
      "source": [
        "# Checking for anomalies.\n",
        "data.info()\n",
        "\n",
        "# There are no anomalies in this data."
      ],
      "metadata": {
        "colab": {
          "base_uri": "https://localhost:8080/"
        },
        "id": "HxqImTTWwcMP",
        "outputId": "75fe9604-28b9-4c5b-d4c5-232cf298607a"
      },
      "execution_count": 6,
      "outputs": [
        {
          "output_type": "stream",
          "name": "stdout",
          "text": [
            "<class 'pandas.core.frame.DataFrame'>\n",
            "RangeIndex: 16085 entries, 0 to 16084\n",
            "Data columns (total 13 columns):\n",
            " #   Column                  Non-Null Count  Dtype \n",
            "---  ------                  --------------  ----- \n",
            " 0   Postal code             16085 non-null  int64 \n",
            " 1   date                    16085 non-null  object\n",
            " 2   n_daily_data_points     16085 non-null  int64 \n",
            " 3   dayOfWeek               16085 non-null  int64 \n",
            " 4   day_type                16085 non-null  object\n",
            " 5   BlueCars_taken_sum      16085 non-null  int64 \n",
            " 6   BlueCars_returned_sum   16085 non-null  int64 \n",
            " 7   Utilib_taken_sum        16085 non-null  int64 \n",
            " 8   Utilib_returned_sum     16085 non-null  int64 \n",
            " 9   Utilib_14_taken_sum     16085 non-null  int64 \n",
            " 10  Utilib_14_returned_sum  16085 non-null  int64 \n",
            " 11  Slots_freed_sum         16085 non-null  int64 \n",
            " 12  Slots_taken_sum         16085 non-null  int64 \n",
            "dtypes: int64(11), object(2)\n",
            "memory usage: 1.6+ MB\n"
          ]
        }
      ]
    },
    {
      "cell_type": "markdown",
      "source": [
        "**Univariate Analysis**\n"
      ],
      "metadata": {
        "id": "WpFD6qcCaC9j"
      }
    },
    {
      "cell_type": "code",
      "source": [
        "# checking the number of weekday and weekend entries\n",
        "\n",
        "data['day_type'].value_counts()"
      ],
      "metadata": {
        "colab": {
          "base_uri": "https://localhost:8080/"
        },
        "id": "-UAss_uSIFac",
        "outputId": "ee4ae794-ad51-4048-c3b9-a8d28e05d1fb"
      },
      "execution_count": 9,
      "outputs": [
        {
          "output_type": "execute_result",
          "data": {
            "text/plain": [
              "weekday    11544\n",
              "weekend     4541\n",
              "Name: day_type, dtype: int64"
            ]
          },
          "metadata": {},
          "execution_count": 9
        }
      ]
    },
    {
      "cell_type": "code",
      "source": [
        "# Exctracting only the relevant columns \n",
        "\n",
        "group = data.groupby(['Postal code'])['BlueCars_taken_sum','BlueCars_returned_sum'].sum().head(10)\n",
        "group"
      ],
      "metadata": {
        "colab": {
          "base_uri": "https://localhost:8080/",
          "height": 449
        },
        "id": "I1mCWRKpD_w0",
        "outputId": "9d288739-823b-459e-f1f7-8b29a351bf11"
      },
      "execution_count": 10,
      "outputs": [
        {
          "output_type": "stream",
          "name": "stderr",
          "text": [
            "/usr/local/lib/python3.7/dist-packages/ipykernel_launcher.py:1: FutureWarning: Indexing with multiple keys (implicitly converted to a tuple of keys) will be deprecated, use a list instead.\n",
            "  \"\"\"Entry point for launching an IPython kernel.\n"
          ]
        },
        {
          "output_type": "execute_result",
          "data": {
            "text/plain": [
              "             BlueCars_taken_sum  BlueCars_returned_sum\n",
              "Postal code                                           \n",
              "75001                     20995                  20974\n",
              "75002                     27143                  27129\n",
              "75003                     37188                  37154\n",
              "75004                     31454                  31449\n",
              "75005                     47766                  47753\n",
              "75006                     41514                  41491\n",
              "75007                     45285                  45191\n",
              "75008                     68247                  68195\n",
              "75009                     52903                  52861\n",
              "75010                     49421                  49427"
            ],
            "text/html": [
              "\n",
              "  <div id=\"df-5065197e-2bb2-4d0f-8572-b72f37b6dcf2\">\n",
              "    <div class=\"colab-df-container\">\n",
              "      <div>\n",
              "<style scoped>\n",
              "    .dataframe tbody tr th:only-of-type {\n",
              "        vertical-align: middle;\n",
              "    }\n",
              "\n",
              "    .dataframe tbody tr th {\n",
              "        vertical-align: top;\n",
              "    }\n",
              "\n",
              "    .dataframe thead th {\n",
              "        text-align: right;\n",
              "    }\n",
              "</style>\n",
              "<table border=\"1\" class=\"dataframe\">\n",
              "  <thead>\n",
              "    <tr style=\"text-align: right;\">\n",
              "      <th></th>\n",
              "      <th>BlueCars_taken_sum</th>\n",
              "      <th>BlueCars_returned_sum</th>\n",
              "    </tr>\n",
              "    <tr>\n",
              "      <th>Postal code</th>\n",
              "      <th></th>\n",
              "      <th></th>\n",
              "    </tr>\n",
              "  </thead>\n",
              "  <tbody>\n",
              "    <tr>\n",
              "      <th>75001</th>\n",
              "      <td>20995</td>\n",
              "      <td>20974</td>\n",
              "    </tr>\n",
              "    <tr>\n",
              "      <th>75002</th>\n",
              "      <td>27143</td>\n",
              "      <td>27129</td>\n",
              "    </tr>\n",
              "    <tr>\n",
              "      <th>75003</th>\n",
              "      <td>37188</td>\n",
              "      <td>37154</td>\n",
              "    </tr>\n",
              "    <tr>\n",
              "      <th>75004</th>\n",
              "      <td>31454</td>\n",
              "      <td>31449</td>\n",
              "    </tr>\n",
              "    <tr>\n",
              "      <th>75005</th>\n",
              "      <td>47766</td>\n",
              "      <td>47753</td>\n",
              "    </tr>\n",
              "    <tr>\n",
              "      <th>75006</th>\n",
              "      <td>41514</td>\n",
              "      <td>41491</td>\n",
              "    </tr>\n",
              "    <tr>\n",
              "      <th>75007</th>\n",
              "      <td>45285</td>\n",
              "      <td>45191</td>\n",
              "    </tr>\n",
              "    <tr>\n",
              "      <th>75008</th>\n",
              "      <td>68247</td>\n",
              "      <td>68195</td>\n",
              "    </tr>\n",
              "    <tr>\n",
              "      <th>75009</th>\n",
              "      <td>52903</td>\n",
              "      <td>52861</td>\n",
              "    </tr>\n",
              "    <tr>\n",
              "      <th>75010</th>\n",
              "      <td>49421</td>\n",
              "      <td>49427</td>\n",
              "    </tr>\n",
              "  </tbody>\n",
              "</table>\n",
              "</div>\n",
              "      <button class=\"colab-df-convert\" onclick=\"convertToInteractive('df-5065197e-2bb2-4d0f-8572-b72f37b6dcf2')\"\n",
              "              title=\"Convert this dataframe to an interactive table.\"\n",
              "              style=\"display:none;\">\n",
              "        \n",
              "  <svg xmlns=\"http://www.w3.org/2000/svg\" height=\"24px\"viewBox=\"0 0 24 24\"\n",
              "       width=\"24px\">\n",
              "    <path d=\"M0 0h24v24H0V0z\" fill=\"none\"/>\n",
              "    <path d=\"M18.56 5.44l.94 2.06.94-2.06 2.06-.94-2.06-.94-.94-2.06-.94 2.06-2.06.94zm-11 1L8.5 8.5l.94-2.06 2.06-.94-2.06-.94L8.5 2.5l-.94 2.06-2.06.94zm10 10l.94 2.06.94-2.06 2.06-.94-2.06-.94-.94-2.06-.94 2.06-2.06.94z\"/><path d=\"M17.41 7.96l-1.37-1.37c-.4-.4-.92-.59-1.43-.59-.52 0-1.04.2-1.43.59L10.3 9.45l-7.72 7.72c-.78.78-.78 2.05 0 2.83L4 21.41c.39.39.9.59 1.41.59.51 0 1.02-.2 1.41-.59l7.78-7.78 2.81-2.81c.8-.78.8-2.07 0-2.86zM5.41 20L4 18.59l7.72-7.72 1.47 1.35L5.41 20z\"/>\n",
              "  </svg>\n",
              "      </button>\n",
              "      \n",
              "  <style>\n",
              "    .colab-df-container {\n",
              "      display:flex;\n",
              "      flex-wrap:wrap;\n",
              "      gap: 12px;\n",
              "    }\n",
              "\n",
              "    .colab-df-convert {\n",
              "      background-color: #E8F0FE;\n",
              "      border: none;\n",
              "      border-radius: 50%;\n",
              "      cursor: pointer;\n",
              "      display: none;\n",
              "      fill: #1967D2;\n",
              "      height: 32px;\n",
              "      padding: 0 0 0 0;\n",
              "      width: 32px;\n",
              "    }\n",
              "\n",
              "    .colab-df-convert:hover {\n",
              "      background-color: #E2EBFA;\n",
              "      box-shadow: 0px 1px 2px rgba(60, 64, 67, 0.3), 0px 1px 3px 1px rgba(60, 64, 67, 0.15);\n",
              "      fill: #174EA6;\n",
              "    }\n",
              "\n",
              "    [theme=dark] .colab-df-convert {\n",
              "      background-color: #3B4455;\n",
              "      fill: #D2E3FC;\n",
              "    }\n",
              "\n",
              "    [theme=dark] .colab-df-convert:hover {\n",
              "      background-color: #434B5C;\n",
              "      box-shadow: 0px 1px 3px 1px rgba(0, 0, 0, 0.15);\n",
              "      filter: drop-shadow(0px 1px 2px rgba(0, 0, 0, 0.3));\n",
              "      fill: #FFFFFF;\n",
              "    }\n",
              "  </style>\n",
              "\n",
              "      <script>\n",
              "        const buttonEl =\n",
              "          document.querySelector('#df-5065197e-2bb2-4d0f-8572-b72f37b6dcf2 button.colab-df-convert');\n",
              "        buttonEl.style.display =\n",
              "          google.colab.kernel.accessAllowed ? 'block' : 'none';\n",
              "\n",
              "        async function convertToInteractive(key) {\n",
              "          const element = document.querySelector('#df-5065197e-2bb2-4d0f-8572-b72f37b6dcf2');\n",
              "          const dataTable =\n",
              "            await google.colab.kernel.invokeFunction('convertToInteractive',\n",
              "                                                     [key], {});\n",
              "          if (!dataTable) return;\n",
              "\n",
              "          const docLinkHtml = 'Like what you see? Visit the ' +\n",
              "            '<a target=\"_blank\" href=https://colab.research.google.com/notebooks/data_table.ipynb>data table notebook</a>'\n",
              "            + ' to learn more about interactive tables.';\n",
              "          element.innerHTML = '';\n",
              "          dataTable['output_type'] = 'display_data';\n",
              "          await google.colab.output.renderOutput(dataTable, element);\n",
              "          const docLink = document.createElement('div');\n",
              "          docLink.innerHTML = docLinkHtml;\n",
              "          element.appendChild(docLink);\n",
              "        }\n",
              "      </script>\n",
              "    </div>\n",
              "  </div>\n",
              "  "
            ]
          },
          "metadata": {},
          "execution_count": 10
        }
      ]
    },
    {
      "cell_type": "code",
      "source": [
        "# Curve showing the sum of BlueCars_taken per postal code\n",
        "\n",
        "data.groupby('Postal code')['BlueCars_taken_sum'].sum().plot(legend=True)\n",
        "plt.title('sum of BlueCars_taken per postal code', color = 'brown')\n",
        "plt.ylabel('sum of BlueCars_taken')\n",
        "\n",
        "# This shows the mean 'BlueCars_taken_sum' per postal code\n",
        "# Postal code 75008 had the highest sum of BlueCars_taken_sum"
      ],
      "metadata": {
        "colab": {
          "base_uri": "https://localhost:8080/",
          "height": 312
        },
        "id": "3AABkTzhHHPJ",
        "outputId": "52566ec4-1ffd-4b7d-ae10-0ed7eb7e3348"
      },
      "execution_count": 11,
      "outputs": [
        {
          "output_type": "execute_result",
          "data": {
            "text/plain": [
              "Text(0, 0.5, 'sum of BlueCars_taken')"
            ]
          },
          "metadata": {},
          "execution_count": 11
        },
        {
          "output_type": "display_data",
          "data": {
            "text/plain": [
              "<Figure size 432x288 with 1 Axes>"
            ],
            "image/png": "[encoded data removed]"
          },
          "metadata": {
            "needs_background": "light"
          }
        }
      ]
    },
    {
      "cell_type": "code",
      "source": [
        "# Curve showing the sum of BlueCars_returned per postal code\n",
        "\n",
        "data.groupby('Postal code')['BlueCars_returned_sum'].sum().plot(legend=True)\n",
        "plt.title('sum of BlueCars_returned per postal code', color = 'brown')\n",
        "plt.ylabel('sum of BlueCars_returned')\n",
        "\n",
        "# This shows the mean 'BlueCars_returned_sum' per postal code\n",
        "# Postal code 75008 had the highest sum of BlueCars_returned_sum"
      ],
      "metadata": {
        "colab": {
          "base_uri": "https://localhost:8080/",
          "height": 312
        },
        "id": "jHHVA1z-Qtys",
        "outputId": "be4b71d3-075e-4cf4-dbe3-63541234ba56"
      },
      "execution_count": 12,
      "outputs": [
        {
          "output_type": "execute_result",
          "data": {
            "text/plain": [
              "Text(0, 0.5, 'sum of BlueCars_returned')"
            ]
          },
          "metadata": {},
          "execution_count": 12
        },
        {
          "output_type": "display_data",
          "data": {
            "text/plain": [
              "<Figure size 432x288 with 1 Axes>"
            ],
            "image/png": "[encoded data removed]"
          },
          "metadata": {
            "needs_background": "light"
          }
        }
      ]
    },
    {
      "cell_type": "markdown",
      "source": [
        "*Measures of Central Tendancy and Dispersion*"
      ],
      "metadata": {
        "id": "SJsORraCamfs"
      }
    },
    {
      "cell_type": "code",
      "source": [
        "# mode, median, skewness, kurtosis, range"
      ],
      "metadata": {
        "id": "EQpsuIlCfxgM"
      },
      "execution_count": 14,
      "outputs": []
    },
    {
      "cell_type": "code",
      "source": [
        "# Description of the data.\n",
        "# Shows different statistical charecteristics of the data \n",
        "\n",
        "data.describe()"
      ],
      "metadata": {
        "colab": {
          "base_uri": "https://localhost:8080/",
          "height": 365
        },
        "id": "VjQul5K6rvm1",
        "outputId": "ae527451-cb4f-43fb-ba66-b6763d8796b7"
      },
      "execution_count": 15,
      "outputs": [
        {
          "output_type": "execute_result",
          "data": {
            "text/plain": [
              "        Postal code  n_daily_data_points     dayOfWeek  BlueCars_taken_sum  \\\n",
              "count  16085.000000         16085.000000  16085.000000        16085.000000   \n",
              "mean   88791.293876          1431.330619      2.969599          125.926951   \n",
              "std     7647.342000            33.212050      2.008378          185.426579   \n",
              "min    75001.000000          1174.000000      0.000000            0.000000   \n",
              "25%    91330.000000          1439.000000      1.000000           20.000000   \n",
              "50%    92340.000000          1440.000000      3.000000           46.000000   \n",
              "75%    93400.000000          1440.000000      5.000000          135.000000   \n",
              "max    95880.000000          1440.000000      6.000000         1352.000000   \n",
              "\n",
              "       BlueCars_returned_sum  Utilib_taken_sum  Utilib_returned_sum  \\\n",
              "count           16085.000000      16085.000000         16085.000000   \n",
              "mean              125.912714          3.698290             3.699099   \n",
              "std               185.501535          5.815058             5.824634   \n",
              "min                 0.000000          0.000000             0.000000   \n",
              "25%                20.000000          0.000000             0.000000   \n",
              "50%                46.000000          1.000000             1.000000   \n",
              "75%               135.000000          4.000000             4.000000   \n",
              "max              1332.000000         54.000000            58.000000   \n",
              "\n",
              "       Utilib_14_taken_sum  Utilib_14_returned_sum  Slots_freed_sum  \\\n",
              "count         16085.000000            16085.000000     16085.000000   \n",
              "mean              8.600560                8.599192        22.629033   \n",
              "std              12.870098               12.868993        52.120263   \n",
              "min               0.000000                0.000000         0.000000   \n",
              "25%               1.000000                1.000000         0.000000   \n",
              "50%               3.000000                3.000000         0.000000   \n",
              "75%              10.000000               10.000000         5.000000   \n",
              "max             100.000000              101.000000       360.000000   \n",
              "\n",
              "       Slots_taken_sum  \n",
              "count     16085.000000  \n",
              "mean         22.629282  \n",
              "std          52.146030  \n",
              "min           0.000000  \n",
              "25%           0.000000  \n",
              "50%           0.000000  \n",
              "75%           5.000000  \n",
              "max         359.000000  "
            ],
            "text/html": [
              "\n",
              "  <div id=\"df-7c4ec001-f348-4847-a99a-1400c6f13c1c\">\n",
              "    <div class=\"colab-df-container\">\n",
              "      <div>\n",
              "<style scoped>\n",
              "    .dataframe tbody tr th:only-of-type {\n",
              "        vertical-align: middle;\n",
              "    }\n",
              "\n",
              "    .dataframe tbody tr th {\n",
              "        vertical-align: top;\n",
              "    }\n",
              "\n",
              "    .dataframe thead th {\n",
              "        text-align: right;\n",
              "    }\n",
              "</style>\n",
              "<table border=\"1\" class=\"dataframe\">\n",
              "  <thead>\n",
              "    <tr style=\"text-align: right;\">\n",
              "      <th></th>\n",
              "      <th>Postal code</th>\n",
              "      <th>n_daily_data_points</th>\n",
              "      <th>dayOfWeek</th>\n",
              "      <th>BlueCars_taken_sum</th>\n",
              "      <th>BlueCars_returned_sum</th>\n",
              "      <th>Utilib_taken_sum</th>\n",
              "      <th>Utilib_returned_sum</th>\n",
              "      <th>Utilib_14_taken_sum</th>\n",
              "      <th>Utilib_14_returned_sum</th>\n",
              "      <th>Slots_freed_sum</th>\n",
              "      <th>Slots_taken_sum</th>\n",
              "    </tr>\n",
              "  </thead>\n",
              "  <tbody>\n",
              "    <tr>\n",
              "      <th>count</th>\n",
              "      <td>16085.000000</td>\n",
              "      <td>16085.000000</td>\n",
              "      <td>16085.000000</td>\n",
              "      <td>16085.000000</td>\n",
              "      <td>16085.000000</td>\n",
              "      <td>16085.000000</td>\n",
              "      <td>16085.000000</td>\n",
              "      <td>16085.000000</td>\n",
              "      <td>16085.000000</td>\n",
              "      <td>16085.000000</td>\n",
              "      <td>16085.000000</td>\n",
              "    </tr>\n",
              "    <tr>\n",
              "      <th>mean</th>\n",
              "      <td>88791.293876</td>\n",
              "      <td>1431.330619</td>\n",
              "      <td>2.969599</td>\n",
              "      <td>125.926951</td>\n",
              "      <td>125.912714</td>\n",
              "      <td>3.698290</td>\n",
              "      <td>3.699099</td>\n",
              "      <td>8.600560</td>\n",
              "      <td>8.599192</td>\n",
              "      <td>22.629033</td>\n",
              "      <td>22.629282</td>\n",
              "    </tr>\n",
              "    <tr>\n",
              "      <th>std</th>\n",
              "      <td>7647.342000</td>\n",
              "      <td>33.212050</td>\n",
              "      <td>2.008378</td>\n",
              "      <td>185.426579</td>\n",
              "      <td>185.501535</td>\n",
              "      <td>5.815058</td>\n",
              "      <td>5.824634</td>\n",
              "      <td>12.870098</td>\n",
              "      <td>12.868993</td>\n",
              "      <td>52.120263</td>\n",
              "      <td>52.146030</td>\n",
              "    </tr>\n",
              "    <tr>\n",
              "      <th>min</th>\n",
              "      <td>75001.000000</td>\n",
              "      <td>1174.000000</td>\n",
              "      <td>0.000000</td>\n",
              "      <td>0.000000</td>\n",
              "      <td>0.000000</td>\n",
              "      <td>0.000000</td>\n",
              "      <td>0.000000</td>\n",
              "      <td>0.000000</td>\n",
              "      <td>0.000000</td>\n",
              "      <td>0.000000</td>\n",
              "      <td>0.000000</td>\n",
              "    </tr>\n",
              "    <tr>\n",
              "      <th>25%</th>\n",
              "      <td>91330.000000</td>\n",
              "      <td>1439.000000</td>\n",
              "      <td>1.000000</td>\n",
              "      <td>20.000000</td>\n",
              "      <td>20.000000</td>\n",
              "      <td>0.000000</td>\n",
              "      <td>0.000000</td>\n",
              "      <td>1.000000</td>\n",
              "      <td>1.000000</td>\n",
              "      <td>0.000000</td>\n",
              "      <td>0.000000</td>\n",
              "    </tr>\n",
              "    <tr>\n",
              "      <th>50%</th>\n",
              "      <td>92340.000000</td>\n",
              "      <td>1440.000000</td>\n",
              "      <td>3.000000</td>\n",
              "      <td>46.000000</td>\n",
              "      <td>46.000000</td>\n",
              "      <td>1.000000</td>\n",
              "      <td>1.000000</td>\n",
              "      <td>3.000000</td>\n",
              "      <td>3.000000</td>\n",
              "      <td>0.000000</td>\n",
              "      <td>0.000000</td>\n",
              "    </tr>\n",
              "    <tr>\n",
              "      <th>75%</th>\n",
              "      <td>93400.000000</td>\n",
              "      <td>1440.000000</td>\n",
              "      <td>5.000000</td>\n",
              "      <td>135.000000</td>\n",
              "      <td>135.000000</td>\n",
              "      <td>4.000000</td>\n",
              "      <td>4.000000</td>\n",
              "      <td>10.000000</td>\n",
              "      <td>10.000000</td>\n",
              "      <td>5.000000</td>\n",
              "      <td>5.000000</td>\n",
              "    </tr>\n",
              "    <tr>\n",
              "      <th>max</th>\n",
              "      <td>95880.000000</td>\n",
              "      <td>1440.000000</td>\n",
              "      <td>6.000000</td>\n",
              "      <td>1352.000000</td>\n",
              "      <td>1332.000000</td>\n",
              "      <td>54.000000</td>\n",
              "      <td>58.000000</td>\n",
              "      <td>100.000000</td>\n",
              "      <td>101.000000</td>\n",
              "      <td>360.000000</td>\n",
              "      <td>359.000000</td>\n",
              "    </tr>\n",
              "  </tbody>\n",
              "</table>\n",
              "</div>\n",
              "      <button class=\"colab-df-convert\" onclick=\"convertToInteractive('df-7c4ec001-f348-4847-a99a-1400c6f13c1c')\"\n",
              "              title=\"Convert this dataframe to an interactive table.\"\n",
              "              style=\"display:none;\">\n",
              "        \n",
              "  <svg xmlns=\"http://www.w3.org/2000/svg\" height=\"24px\"viewBox=\"0 0 24 24\"\n",
              "       width=\"24px\">\n",
              "    <path d=\"M0 0h24v24H0V0z\" fill=\"none\"/>\n",
              "    <path d=\"M18.56 5.44l.94 2.06.94-2.06 2.06-.94-2.06-.94-.94-2.06-.94 2.06-2.06.94zm-11 1L8.5 8.5l.94-2.06 2.06-.94-2.06-.94L8.5 2.5l-.94 2.06-2.06.94zm10 10l.94 2.06.94-2.06 2.06-.94-2.06-.94-.94-2.06-.94 2.06-2.06.94z\"/><path d=\"M17.41 7.96l-1.37-1.37c-.4-.4-.92-.59-1.43-.59-.52 0-1.04.2-1.43.59L10.3 9.45l-7.72 7.72c-.78.78-.78 2.05 0 2.83L4 21.41c.39.39.9.59 1.41.59.51 0 1.02-.2 1.41-.59l7.78-7.78 2.81-2.81c.8-.78.8-2.07 0-2.86zM5.41 20L4 18.59l7.72-7.72 1.47 1.35L5.41 20z\"/>\n",
              "  </svg>\n",
              "      </button>\n",
              "      \n",
              "  <style>\n",
              "    .colab-df-container {\n",
              "      display:flex;\n",
              "      flex-wrap:wrap;\n",
              "      gap: 12px;\n",
              "    }\n",
              "\n",
              "    .colab-df-convert {\n",
              "      background-color: #E8F0FE;\n",
              "      border: none;\n",
              "      border-radius: 50%;\n",
              "      cursor: pointer;\n",
              "      display: none;\n",
              "      fill: #1967D2;\n",
              "      height: 32px;\n",
              "      padding: 0 0 0 0;\n",
              "      width: 32px;\n",
              "    }\n",
              "\n",
              "    .colab-df-convert:hover {\n",
              "      background-color: #E2EBFA;\n",
              "      box-shadow: 0px 1px 2px rgba(60, 64, 67, 0.3), 0px 1px 3px 1px rgba(60, 64, 67, 0.15);\n",
              "      fill: #174EA6;\n",
              "    }\n",
              "\n",
              "    [theme=dark] .colab-df-convert {\n",
              "      background-color: #3B4455;\n",
              "      fill: #D2E3FC;\n",
              "    }\n",
              "\n",
              "    [theme=dark] .colab-df-convert:hover {\n",
              "      background-color: #434B5C;\n",
              "      box-shadow: 0px 1px 3px 1px rgba(0, 0, 0, 0.15);\n",
              "      filter: drop-shadow(0px 1px 2px rgba(0, 0, 0, 0.3));\n",
              "      fill: #FFFFFF;\n",
              "    }\n",
              "  </style>\n",
              "\n",
              "      <script>\n",
              "        const buttonEl =\n",
              "          document.querySelector('#df-7c4ec001-f348-4847-a99a-1400c6f13c1c button.colab-df-convert');\n",
              "        buttonEl.style.display =\n",
              "          google.colab.kernel.accessAllowed ? 'block' : 'none';\n",
              "\n",
              "        async function convertToInteractive(key) {\n",
              "          const element = document.querySelector('#df-7c4ec001-f348-4847-a99a-1400c6f13c1c');\n",
              "          const dataTable =\n",
              "            await google.colab.kernel.invokeFunction('convertToInteractive',\n",
              "                                                     [key], {});\n",
              "          if (!dataTable) return;\n",
              "\n",
              "          const docLinkHtml = 'Like what you see? Visit the ' +\n",
              "            '<a target=\"_blank\" href=https://colab.research.google.com/notebooks/data_table.ipynb>data table notebook</a>'\n",
              "            + ' to learn more about interactive tables.';\n",
              "          element.innerHTML = '';\n",
              "          dataTable['output_type'] = 'display_data';\n",
              "          await google.colab.output.renderOutput(dataTable, element);\n",
              "          const docLink = document.createElement('div');\n",
              "          docLink.innerHTML = docLinkHtml;\n",
              "          element.appendChild(docLink);\n",
              "        }\n",
              "      </script>\n",
              "    </div>\n",
              "  </div>\n",
              "  "
            ]
          },
          "metadata": {},
          "execution_count": 15
        }
      ]
    },
    {
      "cell_type": "code",
      "source": [
        "# mode\n",
        "\n",
        "data.mode().count()\n",
        "\n",
        "# This is the number that occurs the most in the data"
      ],
      "metadata": {
        "colab": {
          "base_uri": "https://localhost:8080/"
        },
        "id": "-Yyo_AgOr0NO",
        "outputId": "a4724e59-1216-4dc7-8b4c-37bc5506cdda"
      },
      "execution_count": 57,
      "outputs": [
        {
          "output_type": "execute_result",
          "data": {
            "text/plain": [
              "Postal code               89\n",
              "date                      47\n",
              "n_daily_data_points        1\n",
              "dayOfWeek                  1\n",
              "day_type                   1\n",
              "BlueCars_taken_sum         1\n",
              "BlueCars_returned_sum      1\n",
              "Utilib_taken_sum           1\n",
              "Utilib_returned_sum        1\n",
              "Utilib_14_taken_sum        1\n",
              "Utilib_14_returned_sum     1\n",
              "Slots_freed_sum            1\n",
              "Slots_taken_sum            1\n",
              "dtype: int64"
            ]
          },
          "metadata": {},
          "execution_count": 57
        }
      ]
    },
    {
      "cell_type": "code",
      "source": [
        "# median\n",
        "\n",
        "data.median()\n",
        "\n",
        "# This is the middle number in the data "
      ],
      "metadata": {
        "colab": {
          "base_uri": "https://localhost:8080/"
        },
        "id": "z7Wn27PssGX0",
        "outputId": "89ffafc9-7431-4fda-d664-c65f6fc92b3d"
      },
      "execution_count": 59,
      "outputs": [
        {
          "output_type": "stream",
          "name": "stderr",
          "text": [
            "/usr/local/lib/python3.7/dist-packages/ipykernel_launcher.py:3: FutureWarning: Dropping of nuisance columns in DataFrame reductions (with 'numeric_only=None') is deprecated; in a future version this will raise TypeError.  Select only valid columns before calling the reduction.\n",
            "  This is separate from the ipykernel package so we can avoid doing imports until\n"
          ]
        },
        {
          "output_type": "execute_result",
          "data": {
            "text/plain": [
              "Postal code               92340.0\n",
              "n_daily_data_points        1440.0\n",
              "dayOfWeek                     3.0\n",
              "BlueCars_taken_sum           46.0\n",
              "BlueCars_returned_sum        46.0\n",
              "Utilib_taken_sum              1.0\n",
              "Utilib_returned_sum           1.0\n",
              "Utilib_14_taken_sum           3.0\n",
              "Utilib_14_returned_sum        3.0\n",
              "Slots_freed_sum               0.0\n",
              "Slots_taken_sum               0.0\n",
              "dtype: float64"
            ]
          },
          "metadata": {},
          "execution_count": 59
        }
      ]
    },
    {
      "cell_type": "code",
      "source": [
        "# range \n",
        "max = data.loc[:, ~data.columns.isin(['date', 'day_type'])].max()\n",
        "min = data.loc[:, ~data.columns.isin(['date', 'day_type'])].min()\n",
        "range = max - min\n",
        "range\n",
        "\n",
        "# This is the difference in the largest and the least number per column"
      ],
      "metadata": {
        "colab": {
          "base_uri": "https://localhost:8080/"
        },
        "id": "00V5nqv7tLwP",
        "outputId": "443dbc8f-9c70-4d4a-ddf8-7b41661303ea"
      },
      "execution_count": 18,
      "outputs": [
        {
          "output_type": "execute_result",
          "data": {
            "text/plain": [
              "Postal code               20879\n",
              "n_daily_data_points         266\n",
              "dayOfWeek                     6\n",
              "BlueCars_taken_sum         1352\n",
              "BlueCars_returned_sum      1332\n",
              "Utilib_taken_sum             54\n",
              "Utilib_returned_sum          58\n",
              "Utilib_14_taken_sum         100\n",
              "Utilib_14_returned_sum      101\n",
              "Slots_freed_sum             360\n",
              "Slots_taken_sum             359\n",
              "dtype: int64"
            ]
          },
          "metadata": {},
          "execution_count": 18
        }
      ]
    },
    {
      "cell_type": "code",
      "source": [
        "# skewness\n",
        "\n",
        "data.skew()\n",
        "\n",
        "# This shows the skewness of all columns in the data "
      ],
      "metadata": {
        "colab": {
          "base_uri": "https://localhost:8080/"
        },
        "id": "kC4T_OtXsrFy",
        "outputId": "2a089cf1-564b-4503-c07f-29581ca77eb9"
      },
      "execution_count": 19,
      "outputs": [
        {
          "output_type": "stream",
          "name": "stderr",
          "text": [
            "/usr/local/lib/python3.7/dist-packages/ipykernel_launcher.py:2: FutureWarning: Dropping of nuisance columns in DataFrame reductions (with 'numeric_only=None') is deprecated; in a future version this will raise TypeError.  Select only valid columns before calling the reduction.\n",
            "  \n"
          ]
        },
        {
          "output_type": "execute_result",
          "data": {
            "text/plain": [
              "Postal code              -1.168778\n",
              "n_daily_data_points      -5.742776\n",
              "dayOfWeek                 0.018824\n",
              "BlueCars_taken_sum        2.406355\n",
              "BlueCars_returned_sum     2.412085\n",
              "Utilib_taken_sum          2.556872\n",
              "Utilib_returned_sum       2.578665\n",
              "Utilib_14_taken_sum       2.510924\n",
              "Utilib_14_returned_sum    2.511488\n",
              "Slots_freed_sum           2.597406\n",
              "Slots_taken_sum           2.596904\n",
              "dtype: float64"
            ]
          },
          "metadata": {},
          "execution_count": 19
        }
      ]
    },
    {
      "cell_type": "code",
      "source": [
        "# kurtosis\n",
        "\n",
        "data.kurt()\n",
        "\n",
        "# This shows the kurtosis per column in the dataset"
      ],
      "metadata": {
        "colab": {
          "base_uri": "https://localhost:8080/"
        },
        "id": "2x_Qhx-7szYh",
        "outputId": "8b6840bb-7180-4f05-8841-683f1d38c1db"
      },
      "execution_count": 20,
      "outputs": [
        {
          "output_type": "stream",
          "name": "stderr",
          "text": [
            "/usr/local/lib/python3.7/dist-packages/ipykernel_launcher.py:2: FutureWarning: Dropping of nuisance columns in DataFrame reductions (with 'numeric_only=None') is deprecated; in a future version this will raise TypeError.  Select only valid columns before calling the reduction.\n",
            "  \n"
          ]
        },
        {
          "output_type": "execute_result",
          "data": {
            "text/plain": [
              "Postal code               -0.542143\n",
              "n_daily_data_points       36.594846\n",
              "dayOfWeek                 -1.260994\n",
              "BlueCars_taken_sum         6.172692\n",
              "BlueCars_returned_sum      6.186288\n",
              "Utilib_taken_sum           7.702362\n",
              "Utilib_returned_sum        7.936357\n",
              "Utilib_14_taken_sum        7.186815\n",
              "Utilib_14_returned_sum     7.185463\n",
              "Slots_freed_sum            6.454514\n",
              "Slots_taken_sum            6.442553\n",
              "dtype: float64"
            ]
          },
          "metadata": {},
          "execution_count": 20
        }
      ]
    },
    {
      "cell_type": "markdown",
      "source": [
        "**Bivariate Analysis**"
      ],
      "metadata": {
        "id": "Nk0O0fToEaoE"
      }
    },
    {
      "cell_type": "code",
      "source": [
        "# Correlation co-efficient.\n",
        "\n",
        "coefficient = data['BlueCars_taken_sum'].corr(data['BlueCars_returned_sum']) \n",
        "\n",
        "print(coefficient)\n",
        "\n",
        "# Positive almost perfect correlation\n"
      ],
      "metadata": {
        "colab": {
          "base_uri": "https://localhost:8080/"
        },
        "id": "h7COCtrXaWe6",
        "outputId": "f75eb35c-80c3-4c25-d776-bef99c1cbcdd"
      },
      "execution_count": 21,
      "outputs": [
        {
          "output_type": "stream",
          "name": "stdout",
          "text": [
            "0.9986597051672199\n"
          ]
        }
      ]
    },
    {
      "cell_type": "code",
      "source": [
        "# Scatter plot showing the relationship between BlueCars_taken and BlueCars_returned.\n",
        "\n",
        "data.plot(x = 'BlueCars_taken_sum', y ='BlueCars_returned_sum' , kind='scatter')\n",
        "\n",
        "\n",
        "# Shows a positive near perfect relationship between the two items"
      ],
      "metadata": {
        "colab": {
          "base_uri": "https://localhost:8080/",
          "height": 297
        },
        "id": "VETcpwJBEdz6",
        "outputId": "e4896ab5-a6df-4561-c2a4-c73e1fffbf16"
      },
      "execution_count": 22,
      "outputs": [
        {
          "output_type": "execute_result",
          "data": {
            "text/plain": [
              "<matplotlib.axes._subplots.AxesSubplot at 0x7f4e938421d0>"
            ]
          },
          "metadata": {},
          "execution_count": 22
        },
        {
          "output_type": "display_data",
          "data": {
            "text/plain": [
              "<Figure size 432x288 with 1 Axes>"
            ],
            "image/png": "[encoded data removed]"
          },
          "metadata": {
            "needs_background": "light"
          }
        }
      ]
    },
    {
      "cell_type": "code",
      "source": [
        "group = data.groupby(['Postal code'])['BlueCars_taken_sum','BlueCars_returned_sum'].sum().head(10)\n",
        "group"
      ],
      "metadata": {
        "colab": {
          "base_uri": "https://localhost:8080/",
          "height": 449
        },
        "id": "CTVgUSxLZ7b3",
        "outputId": "347c4f72-95d4-49a6-9200-5044af3ba41d"
      },
      "execution_count": 23,
      "outputs": [
        {
          "output_type": "stream",
          "name": "stderr",
          "text": [
            "/usr/local/lib/python3.7/dist-packages/ipykernel_launcher.py:1: FutureWarning: Indexing with multiple keys (implicitly converted to a tuple of keys) will be deprecated, use a list instead.\n",
            "  \"\"\"Entry point for launching an IPython kernel.\n"
          ]
        },
        {
          "output_type": "execute_result",
          "data": {
            "text/plain": [
              "             BlueCars_taken_sum  BlueCars_returned_sum\n",
              "Postal code                                           \n",
              "75001                     20995                  20974\n",
              "75002                     27143                  27129\n",
              "75003                     37188                  37154\n",
              "75004                     31454                  31449\n",
              "75005                     47766                  47753\n",
              "75006                     41514                  41491\n",
              "75007                     45285                  45191\n",
              "75008                     68247                  68195\n",
              "75009                     52903                  52861\n",
              "75010                     49421                  49427"
            ],
            "text/html": [
              "\n",
              "  <div id=\"df-0e9512ae-23e7-49cb-84f2-00224c83fd85\">\n",
              "    <div class=\"colab-df-container\">\n",
              "      <div>\n",
              "<style scoped>\n",
              "    .dataframe tbody tr th:only-of-type {\n",
              "        vertical-align: middle;\n",
              "    }\n",
              "\n",
              "    .dataframe tbody tr th {\n",
              "        vertical-align: top;\n",
              "    }\n",
              "\n",
              "    .dataframe thead th {\n",
              "        text-align: right;\n",
              "    }\n",
              "</style>\n",
              "<table border=\"1\" class=\"dataframe\">\n",
              "  <thead>\n",
              "    <tr style=\"text-align: right;\">\n",
              "      <th></th>\n",
              "      <th>BlueCars_taken_sum</th>\n",
              "      <th>BlueCars_returned_sum</th>\n",
              "    </tr>\n",
              "    <tr>\n",
              "      <th>Postal code</th>\n",
              "      <th></th>\n",
              "      <th></th>\n",
              "    </tr>\n",
              "  </thead>\n",
              "  <tbody>\n",
              "    <tr>\n",
              "      <th>75001</th>\n",
              "      <td>20995</td>\n",
              "      <td>20974</td>\n",
              "    </tr>\n",
              "    <tr>\n",
              "      <th>75002</th>\n",
              "      <td>27143</td>\n",
              "      <td>27129</td>\n",
              "    </tr>\n",
              "    <tr>\n",
              "      <th>75003</th>\n",
              "      <td>37188</td>\n",
              "      <td>37154</td>\n",
              "    </tr>\n",
              "    <tr>\n",
              "      <th>75004</th>\n",
              "      <td>31454</td>\n",
              "      <td>31449</td>\n",
              "    </tr>\n",
              "    <tr>\n",
              "      <th>75005</th>\n",
              "      <td>47766</td>\n",
              "      <td>47753</td>\n",
              "    </tr>\n",
              "    <tr>\n",
              "      <th>75006</th>\n",
              "      <td>41514</td>\n",
              "      <td>41491</td>\n",
              "    </tr>\n",
              "    <tr>\n",
              "      <th>75007</th>\n",
              "      <td>45285</td>\n",
              "      <td>45191</td>\n",
              "    </tr>\n",
              "    <tr>\n",
              "      <th>75008</th>\n",
              "      <td>68247</td>\n",
              "      <td>68195</td>\n",
              "    </tr>\n",
              "    <tr>\n",
              "      <th>75009</th>\n",
              "      <td>52903</td>\n",
              "      <td>52861</td>\n",
              "    </tr>\n",
              "    <tr>\n",
              "      <th>75010</th>\n",
              "      <td>49421</td>\n",
              "      <td>49427</td>\n",
              "    </tr>\n",
              "  </tbody>\n",
              "</table>\n",
              "</div>\n",
              "      <button class=\"colab-df-convert\" onclick=\"convertToInteractive('df-0e9512ae-23e7-49cb-84f2-00224c83fd85')\"\n",
              "              title=\"Convert this dataframe to an interactive table.\"\n",
              "              style=\"display:none;\">\n",
              "        \n",
              "  <svg xmlns=\"http://www.w3.org/2000/svg\" height=\"24px\"viewBox=\"0 0 24 24\"\n",
              "       width=\"24px\">\n",
              "    <path d=\"M0 0h24v24H0V0z\" fill=\"none\"/>\n",
              "    <path d=\"M18.56 5.44l.94 2.06.94-2.06 2.06-.94-2.06-.94-.94-2.06-.94 2.06-2.06.94zm-11 1L8.5 8.5l.94-2.06 2.06-.94-2.06-.94L8.5 2.5l-.94 2.06-2.06.94zm10 10l.94 2.06.94-2.06 2.06-.94-2.06-.94-.94-2.06-.94 2.06-2.06.94z\"/><path d=\"M17.41 7.96l-1.37-1.37c-.4-.4-.92-.59-1.43-.59-.52 0-1.04.2-1.43.59L10.3 9.45l-7.72 7.72c-.78.78-.78 2.05 0 2.83L4 21.41c.39.39.9.59 1.41.59.51 0 1.02-.2 1.41-.59l7.78-7.78 2.81-2.81c.8-.78.8-2.07 0-2.86zM5.41 20L4 18.59l7.72-7.72 1.47 1.35L5.41 20z\"/>\n",
              "  </svg>\n",
              "      </button>\n",
              "      \n",
              "  <style>\n",
              "    .colab-df-container {\n",
              "      display:flex;\n",
              "      flex-wrap:wrap;\n",
              "      gap: 12px;\n",
              "    }\n",
              "\n",
              "    .colab-df-convert {\n",
              "      background-color: #E8F0FE;\n",
              "      border: none;\n",
              "      border-radius: 50%;\n",
              "      cursor: pointer;\n",
              "      display: none;\n",
              "      fill: #1967D2;\n",
              "      height: 32px;\n",
              "      padding: 0 0 0 0;\n",
              "      width: 32px;\n",
              "    }\n",
              "\n",
              "    .colab-df-convert:hover {\n",
              "      background-color: #E2EBFA;\n",
              "      box-shadow: 0px 1px 2px rgba(60, 64, 67, 0.3), 0px 1px 3px 1px rgba(60, 64, 67, 0.15);\n",
              "      fill: #174EA6;\n",
              "    }\n",
              "\n",
              "    [theme=dark] .colab-df-convert {\n",
              "      background-color: #3B4455;\n",
              "      fill: #D2E3FC;\n",
              "    }\n",
              "\n",
              "    [theme=dark] .colab-df-convert:hover {\n",
              "      background-color: #434B5C;\n",
              "      box-shadow: 0px 1px 3px 1px rgba(0, 0, 0, 0.15);\n",
              "      filter: drop-shadow(0px 1px 2px rgba(0, 0, 0, 0.3));\n",
              "      fill: #FFFFFF;\n",
              "    }\n",
              "  </style>\n",
              "\n",
              "      <script>\n",
              "        const buttonEl =\n",
              "          document.querySelector('#df-0e9512ae-23e7-49cb-84f2-00224c83fd85 button.colab-df-convert');\n",
              "        buttonEl.style.display =\n",
              "          google.colab.kernel.accessAllowed ? 'block' : 'none';\n",
              "\n",
              "        async function convertToInteractive(key) {\n",
              "          const element = document.querySelector('#df-0e9512ae-23e7-49cb-84f2-00224c83fd85');\n",
              "          const dataTable =\n",
              "            await google.colab.kernel.invokeFunction('convertToInteractive',\n",
              "                                                     [key], {});\n",
              "          if (!dataTable) return;\n",
              "\n",
              "          const docLinkHtml = 'Like what you see? Visit the ' +\n",
              "            '<a target=\"_blank\" href=https://colab.research.google.com/notebooks/data_table.ipynb>data table notebook</a>'\n",
              "            + ' to learn more about interactive tables.';\n",
              "          element.innerHTML = '';\n",
              "          dataTable['output_type'] = 'display_data';\n",
              "          await google.colab.output.renderOutput(dataTable, element);\n",
              "          const docLink = document.createElement('div');\n",
              "          docLink.innerHTML = docLinkHtml;\n",
              "          element.appendChild(docLink);\n",
              "        }\n",
              "      </script>\n",
              "    </div>\n",
              "  </div>\n",
              "  "
            ]
          },
          "metadata": {},
          "execution_count": 23
        }
      ]
    },
    {
      "cell_type": "code",
      "source": [
        "data.groupby(['Postal code']).sum().head(10)\n",
        "\n",
        "# Group by for the whole data"
      ],
      "metadata": {
        "colab": {
          "base_uri": "https://localhost:8080/",
          "height": 476
        },
        "id": "1GrDaerDtemS",
        "outputId": "409eda80-23f0-4cc9-80cb-88099e4cfd93"
      },
      "execution_count": 24,
      "outputs": [
        {
          "output_type": "execute_result",
          "data": {
            "text/plain": [
              "             n_daily_data_points  dayOfWeek  BlueCars_taken_sum  \\\n",
              "Postal code                                                       \n",
              "75001                     223281        463               20995   \n",
              "75002                     223281        463               27143   \n",
              "75003                     223281        463               37188   \n",
              "75004                     223281        463               31454   \n",
              "75005                     223281        463               47766   \n",
              "75006                     223281        463               41514   \n",
              "75007                     223281        463               45285   \n",
              "75008                     223281        463               68247   \n",
              "75009                     223281        463               52903   \n",
              "75010                     223281        463               49421   \n",
              "\n",
              "             BlueCars_returned_sum  Utilib_taken_sum  Utilib_returned_sum  \\\n",
              "Postal code                                                                 \n",
              "75001                        20974               575                  575   \n",
              "75002                        27129               756                  758   \n",
              "75003                        37154              1058                 1058   \n",
              "75004                        31449               826                  827   \n",
              "75005                        47753              1341                 1334   \n",
              "75006                        41491              1012                 1009   \n",
              "75007                        45191              1172                 1171   \n",
              "75008                        68195              1827                 1829   \n",
              "75009                        52861              1436                 1441   \n",
              "75010                        49427              1382                 1384   \n",
              "\n",
              "             Utilib_14_taken_sum  Utilib_14_returned_sum  Slots_freed_sum  \\\n",
              "Postal code                                                                 \n",
              "75001                       1441                    1441             3498   \n",
              "75002                       1756                    1753             5471   \n",
              "75003                       2292                    2292             9543   \n",
              "75004                       2273                    2267             7234   \n",
              "75005                       2940                    2939            14262   \n",
              "75006                       2498                    2499             7873   \n",
              "75007                       2704                    2700            14500   \n",
              "75008                       4123                    4120            20923   \n",
              "75009                       3452                    3449            12132   \n",
              "75010                       3529                    3529            12338   \n",
              "\n",
              "             Slots_taken_sum  \n",
              "Postal code                   \n",
              "75001                   3490  \n",
              "75002                   5474  \n",
              "75003                   9544  \n",
              "75004                   7238  \n",
              "75005                  14248  \n",
              "75006                   7864  \n",
              "75007                  14484  \n",
              "75008                  20899  \n",
              "75009                  12118  \n",
              "75010                  12356  "
            ],
            "text/html": [
              "\n",
              "  <div id=\"df-afdbb4b1-b8f0-4f6f-8cf3-773ebf1aef0b\">\n",
              "    <div class=\"colab-df-container\">\n",
              "      <div>\n",
              "<style scoped>\n",
              "    .dataframe tbody tr th:only-of-type {\n",
              "        vertical-align: middle;\n",
              "    }\n",
              "\n",
              "    .dataframe tbody tr th {\n",
              "        vertical-align: top;\n",
              "    }\n",
              "\n",
              "    .dataframe thead th {\n",
              "        text-align: right;\n",
              "    }\n",
              "</style>\n",
              "<table border=\"1\" class=\"dataframe\">\n",
              "  <thead>\n",
              "    <tr style=\"text-align: right;\">\n",
              "      <th></th>\n",
              "      <th>n_daily_data_points</th>\n",
              "      <th>dayOfWeek</th>\n",
              "      <th>BlueCars_taken_sum</th>\n",
              "      <th>BlueCars_returned_sum</th>\n",
              "      <th>Utilib_taken_sum</th>\n",
              "      <th>Utilib_returned_sum</th>\n",
              "      <th>Utilib_14_taken_sum</th>\n",
              "      <th>Utilib_14_returned_sum</th>\n",
              "      <th>Slots_freed_sum</th>\n",
              "      <th>Slots_taken_sum</th>\n",
              "    </tr>\n",
              "    <tr>\n",
              "      <th>Postal code</th>\n",
              "      <th></th>\n",
              "      <th></th>\n",
              "      <th></th>\n",
              "      <th></th>\n",
              "      <th></th>\n",
              "      <th></th>\n",
              "      <th></th>\n",
              "      <th></th>\n",
              "      <th></th>\n",
              "      <th></th>\n",
              "    </tr>\n",
              "  </thead>\n",
              "  <tbody>\n",
              "    <tr>\n",
              "      <th>75001</th>\n",
              "      <td>223281</td>\n",
              "      <td>463</td>\n",
              "      <td>20995</td>\n",
              "      <td>20974</td>\n",
              "      <td>575</td>\n",
              "      <td>575</td>\n",
              "      <td>1441</td>\n",
              "      <td>1441</td>\n",
              "      <td>3498</td>\n",
              "      <td>3490</td>\n",
              "    </tr>\n",
              "    <tr>\n",
              "      <th>75002</th>\n",
              "      <td>223281</td>\n",
              "      <td>463</td>\n",
              "      <td>27143</td>\n",
              "      <td>27129</td>\n",
              "      <td>756</td>\n",
              "      <td>758</td>\n",
              "      <td>1756</td>\n",
              "      <td>1753</td>\n",
              "      <td>5471</td>\n",
              "      <td>5474</td>\n",
              "    </tr>\n",
              "    <tr>\n",
              "      <th>75003</th>\n",
              "      <td>223281</td>\n",
              "      <td>463</td>\n",
              "      <td>37188</td>\n",
              "      <td>37154</td>\n",
              "      <td>1058</td>\n",
              "      <td>1058</td>\n",
              "      <td>2292</td>\n",
              "      <td>2292</td>\n",
              "      <td>9543</td>\n",
              "      <td>9544</td>\n",
              "    </tr>\n",
              "    <tr>\n",
              "      <th>75004</th>\n",
              "      <td>223281</td>\n",
              "      <td>463</td>\n",
              "      <td>31454</td>\n",
              "      <td>31449</td>\n",
              "      <td>826</td>\n",
              "      <td>827</td>\n",
              "      <td>2273</td>\n",
              "      <td>2267</td>\n",
              "      <td>7234</td>\n",
              "      <td>7238</td>\n",
              "    </tr>\n",
              "    <tr>\n",
              "      <th>75005</th>\n",
              "      <td>223281</td>\n",
              "      <td>463</td>\n",
              "      <td>47766</td>\n",
              "      <td>47753</td>\n",
              "      <td>1341</td>\n",
              "      <td>1334</td>\n",
              "      <td>2940</td>\n",
              "      <td>2939</td>\n",
              "      <td>14262</td>\n",
              "      <td>14248</td>\n",
              "    </tr>\n",
              "    <tr>\n",
              "      <th>75006</th>\n",
              "      <td>223281</td>\n",
              "      <td>463</td>\n",
              "      <td>41514</td>\n",
              "      <td>41491</td>\n",
              "      <td>1012</td>\n",
              "      <td>1009</td>\n",
              "      <td>2498</td>\n",
              "      <td>2499</td>\n",
              "      <td>7873</td>\n",
              "      <td>7864</td>\n",
              "    </tr>\n",
              "    <tr>\n",
              "      <th>75007</th>\n",
              "      <td>223281</td>\n",
              "      <td>463</td>\n",
              "      <td>45285</td>\n",
              "      <td>45191</td>\n",
              "      <td>1172</td>\n",
              "      <td>1171</td>\n",
              "      <td>2704</td>\n",
              "      <td>2700</td>\n",
              "      <td>14500</td>\n",
              "      <td>14484</td>\n",
              "    </tr>\n",
              "    <tr>\n",
              "      <th>75008</th>\n",
              "      <td>223281</td>\n",
              "      <td>463</td>\n",
              "      <td>68247</td>\n",
              "      <td>68195</td>\n",
              "      <td>1827</td>\n",
              "      <td>1829</td>\n",
              "      <td>4123</td>\n",
              "      <td>4120</td>\n",
              "      <td>20923</td>\n",
              "      <td>20899</td>\n",
              "    </tr>\n",
              "    <tr>\n",
              "      <th>75009</th>\n",
              "      <td>223281</td>\n",
              "      <td>463</td>\n",
              "      <td>52903</td>\n",
              "      <td>52861</td>\n",
              "      <td>1436</td>\n",
              "      <td>1441</td>\n",
              "      <td>3452</td>\n",
              "      <td>3449</td>\n",
              "      <td>12132</td>\n",
              "      <td>12118</td>\n",
              "    </tr>\n",
              "    <tr>\n",
              "      <th>75010</th>\n",
              "      <td>223281</td>\n",
              "      <td>463</td>\n",
              "      <td>49421</td>\n",
              "      <td>49427</td>\n",
              "      <td>1382</td>\n",
              "      <td>1384</td>\n",
              "      <td>3529</td>\n",
              "      <td>3529</td>\n",
              "      <td>12338</td>\n",
              "      <td>12356</td>\n",
              "    </tr>\n",
              "  </tbody>\n",
              "</table>\n",
              "</div>\n",
              "      <button class=\"colab-df-convert\" onclick=\"convertToInteractive('df-afdbb4b1-b8f0-4f6f-8cf3-773ebf1aef0b')\"\n",
              "              title=\"Convert this dataframe to an interactive table.\"\n",
              "              style=\"display:none;\">\n",
              "        \n",
              "  <svg xmlns=\"http://www.w3.org/2000/svg\" height=\"24px\"viewBox=\"0 0 24 24\"\n",
              "       width=\"24px\">\n",
              "    <path d=\"M0 0h24v24H0V0z\" fill=\"none\"/>\n",
              "    <path d=\"M18.56 5.44l.94 2.06.94-2.06 2.06-.94-2.06-.94-.94-2.06-.94 2.06-2.06.94zm-11 1L8.5 8.5l.94-2.06 2.06-.94-2.06-.94L8.5 2.5l-.94 2.06-2.06.94zm10 10l.94 2.06.94-2.06 2.06-.94-2.06-.94-.94-2.06-.94 2.06-2.06.94z\"/><path d=\"M17.41 7.96l-1.37-1.37c-.4-.4-.92-.59-1.43-.59-.52 0-1.04.2-1.43.59L10.3 9.45l-7.72 7.72c-.78.78-.78 2.05 0 2.83L4 21.41c.39.39.9.59 1.41.59.51 0 1.02-.2 1.41-.59l7.78-7.78 2.81-2.81c.8-.78.8-2.07 0-2.86zM5.41 20L4 18.59l7.72-7.72 1.47 1.35L5.41 20z\"/>\n",
              "  </svg>\n",
              "      </button>\n",
              "      \n",
              "  <style>\n",
              "    .colab-df-container {\n",
              "      display:flex;\n",
              "      flex-wrap:wrap;\n",
              "      gap: 12px;\n",
              "    }\n",
              "\n",
              "    .colab-df-convert {\n",
              "      background-color: #E8F0FE;\n",
              "      border: none;\n",
              "      border-radius: 50%;\n",
              "      cursor: pointer;\n",
              "      display: none;\n",
              "      fill: #1967D2;\n",
              "      height: 32px;\n",
              "      padding: 0 0 0 0;\n",
              "      width: 32px;\n",
              "    }\n",
              "\n",
              "    .colab-df-convert:hover {\n",
              "      background-color: #E2EBFA;\n",
              "      box-shadow: 0px 1px 2px rgba(60, 64, 67, 0.3), 0px 1px 3px 1px rgba(60, 64, 67, 0.15);\n",
              "      fill: #174EA6;\n",
              "    }\n",
              "\n",
              "    [theme=dark] .colab-df-convert {\n",
              "      background-color: #3B4455;\n",
              "      fill: #D2E3FC;\n",
              "    }\n",
              "\n",
              "    [theme=dark] .colab-df-convert:hover {\n",
              "      background-color: #434B5C;\n",
              "      box-shadow: 0px 1px 3px 1px rgba(0, 0, 0, 0.15);\n",
              "      filter: drop-shadow(0px 1px 2px rgba(0, 0, 0, 0.3));\n",
              "      fill: #FFFFFF;\n",
              "    }\n",
              "  </style>\n",
              "\n",
              "      <script>\n",
              "        const buttonEl =\n",
              "          document.querySelector('#df-afdbb4b1-b8f0-4f6f-8cf3-773ebf1aef0b button.colab-df-convert');\n",
              "        buttonEl.style.display =\n",
              "          google.colab.kernel.accessAllowed ? 'block' : 'none';\n",
              "\n",
              "        async function convertToInteractive(key) {\n",
              "          const element = document.querySelector('#df-afdbb4b1-b8f0-4f6f-8cf3-773ebf1aef0b');\n",
              "          const dataTable =\n",
              "            await google.colab.kernel.invokeFunction('convertToInteractive',\n",
              "                                                     [key], {});\n",
              "          if (!dataTable) return;\n",
              "\n",
              "          const docLinkHtml = 'Like what you see? Visit the ' +\n",
              "            '<a target=\"_blank\" href=https://colab.research.google.com/notebooks/data_table.ipynb>data table notebook</a>'\n",
              "            + ' to learn more about interactive tables.';\n",
              "          element.innerHTML = '';\n",
              "          dataTable['output_type'] = 'display_data';\n",
              "          await google.colab.output.renderOutput(dataTable, element);\n",
              "          const docLink = document.createElement('div');\n",
              "          docLink.innerHTML = docLinkHtml;\n",
              "          element.appendChild(docLink);\n",
              "        }\n",
              "      </script>\n",
              "    </div>\n",
              "  </div>\n",
              "  "
            ]
          },
          "metadata": {},
          "execution_count": 24
        }
      ]
    },
    {
      "cell_type": "code",
      "source": [
        "# The relationshp of both BlueCars_taken_sum and BlueCars_returned_sum per postal code\n",
        "\n",
        "data.groupby('Postal code')['BlueCars_taken_sum','BlueCars_returned_sum'].sum().plot(legend=True)\n",
        "plt.title('sum of BlueCars_taken and BlueCars_returned per postal code', color = 'brown')\n",
        "plt.ylabel('sum of BlueCars_taken and BlueCars_returned_sum')\n",
        "\n",
        "# Shows the relationshp of both BlueCars_taken_sum and BlueCars_returned_sum per postal code"
      ],
      "metadata": {
        "colab": {
          "base_uri": "https://localhost:8080/",
          "height": 372
        },
        "id": "uFryZU4xeDRW",
        "outputId": "0bf9dcd8-cf4d-4a11-c9d1-bdec756174f1"
      },
      "execution_count": 25,
      "outputs": [
        {
          "output_type": "stream",
          "name": "stderr",
          "text": [
            "/usr/local/lib/python3.7/dist-packages/ipykernel_launcher.py:1: FutureWarning: Indexing with multiple keys (implicitly converted to a tuple of keys) will be deprecated, use a list instead.\n",
            "  \"\"\"Entry point for launching an IPython kernel.\n"
          ]
        },
        {
          "output_type": "execute_result",
          "data": {
            "text/plain": [
              "Text(0, 0.5, 'sum of BlueCars_taken and BlueCars_returned_sum')"
            ]
          },
          "metadata": {},
          "execution_count": 25
        },
        {
          "output_type": "display_data",
          "data": {
            "text/plain": [
              "<Figure size 432x288 with 1 Axes>"
            ],
            "image/png": "[encoded data removed]"
          },
          "metadata": {
            "needs_background": "light"
          }
        }
      ]
    },
    {
      "cell_type": "code",
      "source": [
        "# Heat-map\n",
        "# Correlations for all numerical column variables \n",
        "sns.heatmap(data.loc[:, ~data.columns.isin(['date', 'day_type','Postal code','n_daily_data_points','dayOfWeek'])].corr(),annot=True)\n"
      ],
      "metadata": {
        "colab": {
          "base_uri": "https://localhost:8080/",
          "height": 395
        },
        "id": "tuN8tvGOgwhM",
        "outputId": "396f3e28-7b42-4b20-8b93-ce3f6a341423"
      },
      "execution_count": 26,
      "outputs": [
        {
          "output_type": "execute_result",
          "data": {
            "text/plain": [
              "<matplotlib.axes._subplots.AxesSubplot at 0x7f4e9375c2d0>"
            ]
          },
          "metadata": {},
          "execution_count": 26
        },
        {
          "output_type": "display_data",
          "data": {
            "text/plain": [
              "<Figure size 432x288 with 2 Axes>"
            ],
            "image/png": "[encoded data removed]"
          },
          "metadata": {
            "needs_background": "light"
          }
        }
      ]
    },
    {
      "cell_type": "code",
      "source": [
        ""
      ],
      "metadata": {
        "id": "0h1psoO4u_F1"
      },
      "execution_count": 26,
      "outputs": []
    },
    {
      "cell_type": "markdown",
      "source": [
        "**Hypothesis Testing**"
      ],
      "metadata": {
        "id": "4-YrJ7cdhZOu"
      }
    },
    {
      "cell_type": "markdown",
      "source": [
        "**Null**:        Sample mean from postal code 75001 is equal to sample mean from postal code 75002\n",
        "\n",
        "\n",
        "**Alternative**: Sample mean from postal code 75001 is not equal to sample mean from postal code 75002"
      ],
      "metadata": {
        "id": "CZoDs4N-C9mE"
      }
    },
    {
      "cell_type": "markdown",
      "source": [
        "**Sampling**\n",
        "\n",
        "*stratified sampling*\n",
        "\n",
        "Since the data is already in strata per postal code. \n",
        "We use simple stratified sampling method for sampling.\n",
        "\n",
        "\n"
      ],
      "metadata": {
        "id": "eeKNcvmkJ3fb"
      }
    },
    {
      "cell_type": "code",
      "source": [
        "# Obtaining the samples \n",
        "\n",
        "strata = data['Postal code'].value_counts()\n",
        "\n",
        "print(len(strata)) # the number of strata in the data \n",
        "print(strata.min()) # the minimum number of entries in the smallest strata\n",
        "print(strata.max()) # the maximum number of entries in the larges strata\n",
        "\n",
        "# I need to create 104 strata (by postal code) and sample a certain number from each cluster."
      ],
      "metadata": {
        "colab": {
          "base_uri": "https://localhost:8080/"
        },
        "id": "ItLNONu8HrTJ",
        "outputId": "a163b386-edf6-4bfe-bab4-d7f929d3b4db"
      },
      "execution_count": 27,
      "outputs": [
        {
          "output_type": "stream",
          "name": "stdout",
          "text": [
            "104\n",
            "84\n",
            "156\n"
          ]
        }
      ]
    },
    {
      "cell_type": "code",
      "source": [
        "\n",
        "# from the sample size calculator. https://www.calculator.net/sample-size-calculator.html\n",
        "# at 95% level of confidence\n",
        "# 2.94% margin of error \n",
        "# a sample size of 1040 is chosen i.e. 10 samples from each stratum.\n",
        "\n",
        "sample = data.groupby('Postal code', group_keys=False).apply(lambda x: x.sample(10))\n",
        "print(len(sample))\n",
        "sample.head(15)\n",
        "\n",
        "# Analysis (hypothesis testing) will be done with this sample."
      ],
      "metadata": {
        "colab": {
          "base_uri": "https://localhost:8080/",
          "height": 619
        },
        "id": "vQoTwd9eIBNk",
        "outputId": "374e86e0-c91d-4056-e762-75c552ab262d"
      },
      "execution_count": 28,
      "outputs": [
        {
          "output_type": "stream",
          "name": "stdout",
          "text": [
            "1040\n"
          ]
        },
        {
          "output_type": "execute_result",
          "data": {
            "text/plain": [
              "     Postal code       date  n_daily_data_points  dayOfWeek day_type  \\\n",
              "128        75001  5/23/2018                 1174          2  weekday   \n",
              "149        75001  6/13/2018                 1440          2  weekday   \n",
              "133        75001  5/28/2018                 1440          0  weekday   \n",
              "28         75001  1/29/2018                 1440          0  weekday   \n",
              "125        75001  5/20/2018                 1440          6  weekend   \n",
              "27         75001  1/28/2018                 1440          6  weekend   \n",
              "15         75001  1/16/2018                 1440          1  weekday   \n",
              "74         75001  3/19/2018                 1440          0  weekday   \n",
              "29         75001  1/30/2018                 1440          1  weekday   \n",
              "83         75001  3/28/2018                 1440          2  weekday   \n",
              "302        75002  6/10/2018                 1440          6  weekend   \n",
              "160        75002   1/5/2018                 1440          4  weekday   \n",
              "298        75002   6/6/2018                 1440          2  weekday   \n",
              "286        75002  5/25/2018                 1440          4  weekday   \n",
              "165        75002  1/10/2018                 1440          2  weekday   \n",
              "\n",
              "     BlueCars_taken_sum  BlueCars_returned_sum  Utilib_taken_sum  \\\n",
              "128                 110                     94                 2   \n",
              "149                  98                     98                 5   \n",
              "133                  96                     94                 5   \n",
              "28                   83                     81                 2   \n",
              "125                 114                    120                 4   \n",
              "27                  190                    189                 5   \n",
              "15                  116                    116                 1   \n",
              "74                   99                     96                 3   \n",
              "29                  103                    103                 2   \n",
              "83                  103                    103                 4   \n",
              "302                 196                    198                 3   \n",
              "160                 165                    165                 2   \n",
              "298                 154                    154                 4   \n",
              "286                 160                    162                 9   \n",
              "165                 143                    141                 1   \n",
              "\n",
              "     Utilib_returned_sum  Utilib_14_taken_sum  Utilib_14_returned_sum  \\\n",
              "128                    2                    2                       3   \n",
              "149                    5                   11                      10   \n",
              "133                    5                    5                       5   \n",
              "28                     2                    3                       3   \n",
              "125                    4                    3                       3   \n",
              "27                     5                   10                      10   \n",
              "15                     1                    8                       8   \n",
              "74                     3                   18                      18   \n",
              "29                     2                    3                       3   \n",
              "83                     4                    8                       8   \n",
              "302                    3                    9                       9   \n",
              "160                    2                   11                      11   \n",
              "298                    4                   15                      15   \n",
              "286                    9                   23                      23   \n",
              "165                    1                    5                       5   \n",
              "\n",
              "     Slots_freed_sum  Slots_taken_sum  \n",
              "128               13               11  \n",
              "149               12               13  \n",
              "133                9                8  \n",
              "28                17               16  \n",
              "125               25               26  \n",
              "27                32               30  \n",
              "15                19               20  \n",
              "74                16               17  \n",
              "29                11               11  \n",
              "83                16               18  \n",
              "302               37               36  \n",
              "160               34               32  \n",
              "298               34               36  \n",
              "286               40               38  \n",
              "165               29               30  "
            ],
            "text/html": [
              "\n",
              "  <div id=\"df-d862b45e-9e3a-4450-8a61-112b37bbe53d\">\n",
              "    <div class=\"colab-df-container\">\n",
              "      <div>\n",
              "<style scoped>\n",
              "    .dataframe tbody tr th:only-of-type {\n",
              "        vertical-align: middle;\n",
              "    }\n",
              "\n",
              "    .dataframe tbody tr th {\n",
              "        vertical-align: top;\n",
              "    }\n",
              "\n",
              "    .dataframe thead th {\n",
              "        text-align: right;\n",
              "    }\n",
              "</style>\n",
              "<table border=\"1\" class=\"dataframe\">\n",
              "  <thead>\n",
              "    <tr style=\"text-align: right;\">\n",
              "      <th></th>\n",
              "      <th>Postal code</th>\n",
              "      <th>date</th>\n",
              "      <th>n_daily_data_points</th>\n",
              "      <th>dayOfWeek</th>\n",
              "      <th>day_type</th>\n",
              "      <th>BlueCars_taken_sum</th>\n",
              "      <th>BlueCars_returned_sum</th>\n",
              "      <th>Utilib_taken_sum</th>\n",
              "      <th>Utilib_returned_sum</th>\n",
              "      <th>Utilib_14_taken_sum</th>\n",
              "      <th>Utilib_14_returned_sum</th>\n",
              "      <th>Slots_freed_sum</th>\n",
              "      <th>Slots_taken_sum</th>\n",
              "    </tr>\n",
              "  </thead>\n",
              "  <tbody>\n",
              "    <tr>\n",
              "      <th>128</th>\n",
              "      <td>75001</td>\n",
              "      <td>5/23/2018</td>\n",
              "      <td>1174</td>\n",
              "      <td>2</td>\n",
              "      <td>weekday</td>\n",
              "      <td>110</td>\n",
              "      <td>94</td>\n",
              "      <td>2</td>\n",
              "      <td>2</td>\n",
              "      <td>2</td>\n",
              "      <td>3</td>\n",
              "      <td>13</td>\n",
              "      <td>11</td>\n",
              "    </tr>\n",
              "    <tr>\n",
              "      <th>149</th>\n",
              "      <td>75001</td>\n",
              "      <td>6/13/2018</td>\n",
              "      <td>1440</td>\n",
              "      <td>2</td>\n",
              "      <td>weekday</td>\n",
              "      <td>98</td>\n",
              "      <td>98</td>\n",
              "      <td>5</td>\n",
              "      <td>5</td>\n",
              "      <td>11</td>\n",
              "      <td>10</td>\n",
              "      <td>12</td>\n",
              "      <td>13</td>\n",
              "    </tr>\n",
              "    <tr>\n",
              "      <th>133</th>\n",
              "      <td>75001</td>\n",
              "      <td>5/28/2018</td>\n",
              "      <td>1440</td>\n",
              "      <td>0</td>\n",
              "      <td>weekday</td>\n",
              "      <td>96</td>\n",
              "      <td>94</td>\n",
              "      <td>5</td>\n",
              "      <td>5</td>\n",
              "      <td>5</td>\n",
              "      <td>5</td>\n",
              "      <td>9</td>\n",
              "      <td>8</td>\n",
              "    </tr>\n",
              "    <tr>\n",
              "      <th>28</th>\n",
              "      <td>75001</td>\n",
              "      <td>1/29/2018</td>\n",
              "      <td>1440</td>\n",
              "      <td>0</td>\n",
              "      <td>weekday</td>\n",
              "      <td>83</td>\n",
              "      <td>81</td>\n",
              "      <td>2</td>\n",
              "      <td>2</td>\n",
              "      <td>3</td>\n",
              "      <td>3</td>\n",
              "      <td>17</td>\n",
              "      <td>16</td>\n",
              "    </tr>\n",
              "    <tr>\n",
              "      <th>125</th>\n",
              "      <td>75001</td>\n",
              "      <td>5/20/2018</td>\n",
              "      <td>1440</td>\n",
              "      <td>6</td>\n",
              "      <td>weekend</td>\n",
              "      <td>114</td>\n",
              "      <td>120</td>\n",
              "      <td>4</td>\n",
              "      <td>4</td>\n",
              "      <td>3</td>\n",
              "      <td>3</td>\n",
              "      <td>25</td>\n",
              "      <td>26</td>\n",
              "    </tr>\n",
              "    <tr>\n",
              "      <th>27</th>\n",
              "      <td>75001</td>\n",
              "      <td>1/28/2018</td>\n",
              "      <td>1440</td>\n",
              "      <td>6</td>\n",
              "      <td>weekend</td>\n",
              "      <td>190</td>\n",
              "      <td>189</td>\n",
              "      <td>5</td>\n",
              "      <td>5</td>\n",
              "      <td>10</td>\n",
              "      <td>10</td>\n",
              "      <td>32</td>\n",
              "      <td>30</td>\n",
              "    </tr>\n",
              "    <tr>\n",
              "      <th>15</th>\n",
              "      <td>75001</td>\n",
              "      <td>1/16/2018</td>\n",
              "      <td>1440</td>\n",
              "      <td>1</td>\n",
              "      <td>weekday</td>\n",
              "      <td>116</td>\n",
              "      <td>116</td>\n",
              "      <td>1</td>\n",
              "      <td>1</td>\n",
              "      <td>8</td>\n",
              "      <td>8</td>\n",
              "      <td>19</td>\n",
              "      <td>20</td>\n",
              "    </tr>\n",
              "    <tr>\n",
              "      <th>74</th>\n",
              "      <td>75001</td>\n",
              "      <td>3/19/2018</td>\n",
              "      <td>1440</td>\n",
              "      <td>0</td>\n",
              "      <td>weekday</td>\n",
              "      <td>99</td>\n",
              "      <td>96</td>\n",
              "      <td>3</td>\n",
              "      <td>3</td>\n",
              "      <td>18</td>\n",
              "      <td>18</td>\n",
              "      <td>16</td>\n",
              "      <td>17</td>\n",
              "    </tr>\n",
              "    <tr>\n",
              "      <th>29</th>\n",
              "      <td>75001</td>\n",
              "      <td>1/30/2018</td>\n",
              "      <td>1440</td>\n",
              "      <td>1</td>\n",
              "      <td>weekday</td>\n",
              "      <td>103</td>\n",
              "      <td>103</td>\n",
              "      <td>2</td>\n",
              "      <td>2</td>\n",
              "      <td>3</td>\n",
              "      <td>3</td>\n",
              "      <td>11</td>\n",
              "      <td>11</td>\n",
              "    </tr>\n",
              "    <tr>\n",
              "      <th>83</th>\n",
              "      <td>75001</td>\n",
              "      <td>3/28/2018</td>\n",
              "      <td>1440</td>\n",
              "      <td>2</td>\n",
              "      <td>weekday</td>\n",
              "      <td>103</td>\n",
              "      <td>103</td>\n",
              "      <td>4</td>\n",
              "      <td>4</td>\n",
              "      <td>8</td>\n",
              "      <td>8</td>\n",
              "      <td>16</td>\n",
              "      <td>18</td>\n",
              "    </tr>\n",
              "    <tr>\n",
              "      <th>302</th>\n",
              "      <td>75002</td>\n",
              "      <td>6/10/2018</td>\n",
              "      <td>1440</td>\n",
              "      <td>6</td>\n",
              "      <td>weekend</td>\n",
              "      <td>196</td>\n",
              "      <td>198</td>\n",
              "      <td>3</td>\n",
              "      <td>3</td>\n",
              "      <td>9</td>\n",
              "      <td>9</td>\n",
              "      <td>37</td>\n",
              "      <td>36</td>\n",
              "    </tr>\n",
              "    <tr>\n",
              "      <th>160</th>\n",
              "      <td>75002</td>\n",
              "      <td>1/5/2018</td>\n",
              "      <td>1440</td>\n",
              "      <td>4</td>\n",
              "      <td>weekday</td>\n",
              "      <td>165</td>\n",
              "      <td>165</td>\n",
              "      <td>2</td>\n",
              "      <td>2</td>\n",
              "      <td>11</td>\n",
              "      <td>11</td>\n",
              "      <td>34</td>\n",
              "      <td>32</td>\n",
              "    </tr>\n",
              "    <tr>\n",
              "      <th>298</th>\n",
              "      <td>75002</td>\n",
              "      <td>6/6/2018</td>\n",
              "      <td>1440</td>\n",
              "      <td>2</td>\n",
              "      <td>weekday</td>\n",
              "      <td>154</td>\n",
              "      <td>154</td>\n",
              "      <td>4</td>\n",
              "      <td>4</td>\n",
              "      <td>15</td>\n",
              "      <td>15</td>\n",
              "      <td>34</td>\n",
              "      <td>36</td>\n",
              "    </tr>\n",
              "    <tr>\n",
              "      <th>286</th>\n",
              "      <td>75002</td>\n",
              "      <td>5/25/2018</td>\n",
              "      <td>1440</td>\n",
              "      <td>4</td>\n",
              "      <td>weekday</td>\n",
              "      <td>160</td>\n",
              "      <td>162</td>\n",
              "      <td>9</td>\n",
              "      <td>9</td>\n",
              "      <td>23</td>\n",
              "      <td>23</td>\n",
              "      <td>40</td>\n",
              "      <td>38</td>\n",
              "    </tr>\n",
              "    <tr>\n",
              "      <th>165</th>\n",
              "      <td>75002</td>\n",
              "      <td>1/10/2018</td>\n",
              "      <td>1440</td>\n",
              "      <td>2</td>\n",
              "      <td>weekday</td>\n",
              "      <td>143</td>\n",
              "      <td>141</td>\n",
              "      <td>1</td>\n",
              "      <td>1</td>\n",
              "      <td>5</td>\n",
              "      <td>5</td>\n",
              "      <td>29</td>\n",
              "      <td>30</td>\n",
              "    </tr>\n",
              "  </tbody>\n",
              "</table>\n",
              "</div>\n",
              "      <button class=\"colab-df-convert\" onclick=\"convertToInteractive('df-d862b45e-9e3a-4450-8a61-112b37bbe53d')\"\n",
              "              title=\"Convert this dataframe to an interactive table.\"\n",
              "              style=\"display:none;\">\n",
              "        \n",
              "  <svg xmlns=\"http://www.w3.org/2000/svg\" height=\"24px\"viewBox=\"0 0 24 24\"\n",
              "       width=\"24px\">\n",
              "    <path d=\"M0 0h24v24H0V0z\" fill=\"none\"/>\n",
              "    <path d=\"M18.56 5.44l.94 2.06.94-2.06 2.06-.94-2.06-.94-.94-2.06-.94 2.06-2.06.94zm-11 1L8.5 8.5l.94-2.06 2.06-.94-2.06-.94L8.5 2.5l-.94 2.06-2.06.94zm10 10l.94 2.06.94-2.06 2.06-.94-2.06-.94-.94-2.06-.94 2.06-2.06.94z\"/><path d=\"M17.41 7.96l-1.37-1.37c-.4-.4-.92-.59-1.43-.59-.52 0-1.04.2-1.43.59L10.3 9.45l-7.72 7.72c-.78.78-.78 2.05 0 2.83L4 21.41c.39.39.9.59 1.41.59.51 0 1.02-.2 1.41-.59l7.78-7.78 2.81-2.81c.8-.78.8-2.07 0-2.86zM5.41 20L4 18.59l7.72-7.72 1.47 1.35L5.41 20z\"/>\n",
              "  </svg>\n",
              "      </button>\n",
              "      \n",
              "  <style>\n",
              "    .colab-df-container {\n",
              "      display:flex;\n",
              "      flex-wrap:wrap;\n",
              "      gap: 12px;\n",
              "    }\n",
              "\n",
              "    .colab-df-convert {\n",
              "      background-color: #E8F0FE;\n",
              "      border: none;\n",
              "      border-radius: 50%;\n",
              "      cursor: pointer;\n",
              "      display: none;\n",
              "      fill: #1967D2;\n",
              "      height: 32px;\n",
              "      padding: 0 0 0 0;\n",
              "      width: 32px;\n",
              "    }\n",
              "\n",
              "    .colab-df-convert:hover {\n",
              "      background-color: #E2EBFA;\n",
              "      box-shadow: 0px 1px 2px rgba(60, 64, 67, 0.3), 0px 1px 3px 1px rgba(60, 64, 67, 0.15);\n",
              "      fill: #174EA6;\n",
              "    }\n",
              "\n",
              "    [theme=dark] .colab-df-convert {\n",
              "      background-color: #3B4455;\n",
              "      fill: #D2E3FC;\n",
              "    }\n",
              "\n",
              "    [theme=dark] .colab-df-convert:hover {\n",
              "      background-color: #434B5C;\n",
              "      box-shadow: 0px 1px 3px 1px rgba(0, 0, 0, 0.15);\n",
              "      filter: drop-shadow(0px 1px 2px rgba(0, 0, 0, 0.3));\n",
              "      fill: #FFFFFF;\n",
              "    }\n",
              "  </style>\n",
              "\n",
              "      <script>\n",
              "        const buttonEl =\n",
              "          document.querySelector('#df-d862b45e-9e3a-4450-8a61-112b37bbe53d button.colab-df-convert');\n",
              "        buttonEl.style.display =\n",
              "          google.colab.kernel.accessAllowed ? 'block' : 'none';\n",
              "\n",
              "        async function convertToInteractive(key) {\n",
              "          const element = document.querySelector('#df-d862b45e-9e3a-4450-8a61-112b37bbe53d');\n",
              "          const dataTable =\n",
              "            await google.colab.kernel.invokeFunction('convertToInteractive',\n",
              "                                                     [key], {});\n",
              "          if (!dataTable) return;\n",
              "\n",
              "          const docLinkHtml = 'Like what you see? Visit the ' +\n",
              "            '<a target=\"_blank\" href=https://colab.research.google.com/notebooks/data_table.ipynb>data table notebook</a>'\n",
              "            + ' to learn more about interactive tables.';\n",
              "          element.innerHTML = '';\n",
              "          dataTable['output_type'] = 'display_data';\n",
              "          await google.colab.output.renderOutput(dataTable, element);\n",
              "          const docLink = document.createElement('div');\n",
              "          docLink.innerHTML = docLinkHtml;\n",
              "          element.appendChild(docLink);\n",
              "        }\n",
              "      </script>\n",
              "    </div>\n",
              "  </div>\n",
              "  "
            ]
          },
          "metadata": {},
          "execution_count": 28
        }
      ]
    },
    {
      "cell_type": "code",
      "source": [
        "# Choosing only the columns interested in.\n",
        "sample[['Postal code','BlueCars_taken_sum']]"
      ],
      "metadata": {
        "colab": {
          "base_uri": "https://localhost:8080/",
          "height": 424
        },
        "id": "HKZfKANKJ79W",
        "outputId": "82754350-5d8f-4559-e160-d915bcc35320"
      },
      "execution_count": 29,
      "outputs": [
        {
          "output_type": "execute_result",
          "data": {
            "text/plain": [
              "       Postal code  BlueCars_taken_sum\n",
              "128          75001                 110\n",
              "149          75001                  98\n",
              "133          75001                  96\n",
              "28           75001                  83\n",
              "125          75001                 114\n",
              "...            ...                 ...\n",
              "16061        95880                  37\n",
              "16034        95880                   6\n",
              "16075        95880                  34\n",
              "15984        95880                  11\n",
              "15947        95880                   8\n",
              "\n",
              "[1040 rows x 2 columns]"
            ],
            "text/html": [
              "\n",
              "  <div id=\"df-754d519b-7d93-4ac7-8559-9372cb7fbfe3\">\n",
              "    <div class=\"colab-df-container\">\n",
              "      <div>\n",
              "<style scoped>\n",
              "    .dataframe tbody tr th:only-of-type {\n",
              "        vertical-align: middle;\n",
              "    }\n",
              "\n",
              "    .dataframe tbody tr th {\n",
              "        vertical-align: top;\n",
              "    }\n",
              "\n",
              "    .dataframe thead th {\n",
              "        text-align: right;\n",
              "    }\n",
              "</style>\n",
              "<table border=\"1\" class=\"dataframe\">\n",
              "  <thead>\n",
              "    <tr style=\"text-align: right;\">\n",
              "      <th></th>\n",
              "      <th>Postal code</th>\n",
              "      <th>BlueCars_taken_sum</th>\n",
              "    </tr>\n",
              "  </thead>\n",
              "  <tbody>\n",
              "    <tr>\n",
              "      <th>128</th>\n",
              "      <td>75001</td>\n",
              "      <td>110</td>\n",
              "    </tr>\n",
              "    <tr>\n",
              "      <th>149</th>\n",
              "      <td>75001</td>\n",
              "      <td>98</td>\n",
              "    </tr>\n",
              "    <tr>\n",
              "      <th>133</th>\n",
              "      <td>75001</td>\n",
              "      <td>96</td>\n",
              "    </tr>\n",
              "    <tr>\n",
              "      <th>28</th>\n",
              "      <td>75001</td>\n",
              "      <td>83</td>\n",
              "    </tr>\n",
              "    <tr>\n",
              "      <th>125</th>\n",
              "      <td>75001</td>\n",
              "      <td>114</td>\n",
              "    </tr>\n",
              "    <tr>\n",
              "      <th>...</th>\n",
              "      <td>...</td>\n",
              "      <td>...</td>\n",
              "    </tr>\n",
              "    <tr>\n",
              "      <th>16061</th>\n",
              "      <td>95880</td>\n",
              "      <td>37</td>\n",
              "    </tr>\n",
              "    <tr>\n",
              "      <th>16034</th>\n",
              "      <td>95880</td>\n",
              "      <td>6</td>\n",
              "    </tr>\n",
              "    <tr>\n",
              "      <th>16075</th>\n",
              "      <td>95880</td>\n",
              "      <td>34</td>\n",
              "    </tr>\n",
              "    <tr>\n",
              "      <th>15984</th>\n",
              "      <td>95880</td>\n",
              "      <td>11</td>\n",
              "    </tr>\n",
              "    <tr>\n",
              "      <th>15947</th>\n",
              "      <td>95880</td>\n",
              "      <td>8</td>\n",
              "    </tr>\n",
              "  </tbody>\n",
              "</table>\n",
              "<p>1040 rows × 2 columns</p>\n",
              "</div>\n",
              "      <button class=\"colab-df-convert\" onclick=\"convertToInteractive('df-754d519b-7d93-4ac7-8559-9372cb7fbfe3')\"\n",
              "              title=\"Convert this dataframe to an interactive table.\"\n",
              "              style=\"display:none;\">\n",
              "        \n",
              "  <svg xmlns=\"http://www.w3.org/2000/svg\" height=\"24px\"viewBox=\"0 0 24 24\"\n",
              "       width=\"24px\">\n",
              "    <path d=\"M0 0h24v24H0V0z\" fill=\"none\"/>\n",
              "    <path d=\"M18.56 5.44l.94 2.06.94-2.06 2.06-.94-2.06-.94-.94-2.06-.94 2.06-2.06.94zm-11 1L8.5 8.5l.94-2.06 2.06-.94-2.06-.94L8.5 2.5l-.94 2.06-2.06.94zm10 10l.94 2.06.94-2.06 2.06-.94-2.06-.94-.94-2.06-.94 2.06-2.06.94z\"/><path d=\"M17.41 7.96l-1.37-1.37c-.4-.4-.92-.59-1.43-.59-.52 0-1.04.2-1.43.59L10.3 9.45l-7.72 7.72c-.78.78-.78 2.05 0 2.83L4 21.41c.39.39.9.59 1.41.59.51 0 1.02-.2 1.41-.59l7.78-7.78 2.81-2.81c.8-.78.8-2.07 0-2.86zM5.41 20L4 18.59l7.72-7.72 1.47 1.35L5.41 20z\"/>\n",
              "  </svg>\n",
              "      </button>\n",
              "      \n",
              "  <style>\n",
              "    .colab-df-container {\n",
              "      display:flex;\n",
              "      flex-wrap:wrap;\n",
              "      gap: 12px;\n",
              "    }\n",
              "\n",
              "    .colab-df-convert {\n",
              "      background-color: #E8F0FE;\n",
              "      border: none;\n",
              "      border-radius: 50%;\n",
              "      cursor: pointer;\n",
              "      display: none;\n",
              "      fill: #1967D2;\n",
              "      height: 32px;\n",
              "      padding: 0 0 0 0;\n",
              "      width: 32px;\n",
              "    }\n",
              "\n",
              "    .colab-df-convert:hover {\n",
              "      background-color: #E2EBFA;\n",
              "      box-shadow: 0px 1px 2px rgba(60, 64, 67, 0.3), 0px 1px 3px 1px rgba(60, 64, 67, 0.15);\n",
              "      fill: #174EA6;\n",
              "    }\n",
              "\n",
              "    [theme=dark] .colab-df-convert {\n",
              "      background-color: #3B4455;\n",
              "      fill: #D2E3FC;\n",
              "    }\n",
              "\n",
              "    [theme=dark] .colab-df-convert:hover {\n",
              "      background-color: #434B5C;\n",
              "      box-shadow: 0px 1px 3px 1px rgba(0, 0, 0, 0.15);\n",
              "      filter: drop-shadow(0px 1px 2px rgba(0, 0, 0, 0.3));\n",
              "      fill: #FFFFFF;\n",
              "    }\n",
              "  </style>\n",
              "\n",
              "      <script>\n",
              "        const buttonEl =\n",
              "          document.querySelector('#df-754d519b-7d93-4ac7-8559-9372cb7fbfe3 button.colab-df-convert');\n",
              "        buttonEl.style.display =\n",
              "          google.colab.kernel.accessAllowed ? 'block' : 'none';\n",
              "\n",
              "        async function convertToInteractive(key) {\n",
              "          const element = document.querySelector('#df-754d519b-7d93-4ac7-8559-9372cb7fbfe3');\n",
              "          const dataTable =\n",
              "            await google.colab.kernel.invokeFunction('convertToInteractive',\n",
              "                                                     [key], {});\n",
              "          if (!dataTable) return;\n",
              "\n",
              "          const docLinkHtml = 'Like what you see? Visit the ' +\n",
              "            '<a target=\"_blank\" href=https://colab.research.google.com/notebooks/data_table.ipynb>data table notebook</a>'\n",
              "            + ' to learn more about interactive tables.';\n",
              "          element.innerHTML = '';\n",
              "          dataTable['output_type'] = 'display_data';\n",
              "          await google.colab.output.renderOutput(dataTable, element);\n",
              "          const docLink = document.createElement('div');\n",
              "          docLink.innerHTML = docLinkHtml;\n",
              "          element.appendChild(docLink);\n",
              "        }\n",
              "      </script>\n",
              "    </div>\n",
              "  </div>\n",
              "  "
            ]
          },
          "metadata": {},
          "execution_count": 29
        }
      ]
    },
    {
      "cell_type": "code",
      "source": [
        "# Obtaining sample means\n",
        "# sample mean for postal code 75001\n",
        "# sample mean for postal code 75002\n",
        "sample_means = sample.groupby('Postal code')['BlueCars_taken_sum'].mean()\n",
        "sample_means"
      ],
      "metadata": {
        "colab": {
          "base_uri": "https://localhost:8080/"
        },
        "id": "T1othH2ZKcq_",
        "outputId": "58033016-ca7e-465b-fd8b-72b5d1711dfe"
      },
      "execution_count": 61,
      "outputs": [
        {
          "output_type": "execute_result",
          "data": {
            "text/plain": [
              "Postal code\n",
              "75001    111.2\n",
              "75002    174.2\n",
              "75003    257.9\n",
              "75004    209.3\n",
              "75005    322.3\n",
              "         ...  \n",
              "94700     27.7\n",
              "94800     85.4\n",
              "95100     21.8\n",
              "95870     14.3\n",
              "95880     20.3\n",
              "Name: BlueCars_taken_sum, Length: 104, dtype: float64"
            ]
          },
          "metadata": {},
          "execution_count": 61
        }
      ]
    },
    {
      "cell_type": "code",
      "source": [
        "M1 = 111.2\n",
        "M2 = 174.2"
      ],
      "metadata": {
        "id": "Ye6mzq-xM4iu"
      },
      "execution_count": 63,
      "outputs": []
    },
    {
      "cell_type": "code",
      "source": [
        "# Obtaining sample standard deviation\n",
        "sample_var = sample.groupby('Postal code')['BlueCars_taken_sum'].var()\n",
        "sample_var"
      ],
      "metadata": {
        "colab": {
          "base_uri": "https://localhost:8080/"
        },
        "id": "2P8Cf2MoN33K",
        "outputId": "22d2f5a9-8da5-4b3b-9e4c-b0f15f7a0155"
      },
      "execution_count": 32,
      "outputs": [
        {
          "output_type": "execute_result",
          "data": {
            "text/plain": [
              "Postal code\n",
              "75001     858.400000\n",
              "75002    1430.844444\n",
              "75003    5105.433333\n",
              "75004    4674.900000\n",
              "75005    5664.233333\n",
              "            ...     \n",
              "94700     123.344444\n",
              "94800     235.377778\n",
              "95100      72.622222\n",
              "95870      22.900000\n",
              "95880     147.566667\n",
              "Name: BlueCars_taken_sum, Length: 104, dtype: float64"
            ]
          },
          "metadata": {},
          "execution_count": 32
        }
      ]
    },
    {
      "cell_type": "code",
      "source": [
        "v1 = 858.4\n",
        "v2 = 1430.8444"
      ],
      "metadata": {
        "id": "pJ1HcsMdOOFa"
      },
      "execution_count": 62,
      "outputs": []
    },
    {
      "cell_type": "code",
      "source": [
        "# T-calculated \n",
        "import math\n",
        "\n",
        "t_calc = (M1 - M2)/(math.sqrt((v1/10)+(v2/10)))\n",
        "t_calc"
      ],
      "metadata": {
        "colab": {
          "base_uri": "https://localhost:8080/"
        },
        "id": "PnpPmULcRQiK",
        "outputId": "3e3e726d-4c99-4372-a0a3-adc5bf57f785"
      },
      "execution_count": 69,
      "outputs": [
        {
          "output_type": "execute_result",
          "data": {
            "text/plain": [
              "-4.1638441829182975"
            ]
          },
          "metadata": {},
          "execution_count": 69
        }
      ]
    },
    {
      "cell_type": "code",
      "source": [
        "# Obtaining p-value\n",
        "# This is a two-tailed test\n",
        "# with 9 degrees of freedom\n",
        "\n",
        "scipy.stats.t.sf(abs(t_calc), df=9)*2"
      ],
      "metadata": {
        "colab": {
          "base_uri": "https://localhost:8080/"
        },
        "id": "akHrBz1BNyJ8",
        "outputId": "695bd566-00b4-4c43-965c-1803c9eeb11d"
      },
      "execution_count": 71,
      "outputs": [
        {
          "output_type": "execute_result",
          "data": {
            "text/plain": [
              "0.0024337700407683098"
            ]
          },
          "metadata": {},
          "execution_count": 71
        }
      ]
    },
    {
      "cell_type": "markdown",
      "source": [
        "**Conclusion**"
      ],
      "metadata": {
        "id": "kK9k30gKAg4M"
      }
    },
    {
      "cell_type": "markdown",
      "source": [
        "We reject the null hypothesis that there is a difference in the two sample means, since the p-value is less than 0.05\n",
        "\n",
        "There is no difference in the sample means of the two postal codes 75001 and 75002"
      ],
      "metadata": {
        "id": "zX9ulY0tA0Wa"
      }
    }
  ]
}